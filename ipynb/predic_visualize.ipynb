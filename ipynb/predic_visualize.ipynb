{
 "cells": [
  {
   "cell_type": "code",
   "execution_count": 1,
   "outputs": [],
   "source": [
    "%matplotlib inline\n",
    "\n",
    "import torch\n",
    "import pylab as plt\n",
    "from munch import munchify\n",
    "from torch.nn import functional as F\n",
    "from torch.utils.data import TensorDataset, DataLoader\n",
    "\n",
    "from utils import *\n",
    "from tqdm import tqdm\n",
    "# from preprocessing.s02_create_dataset import load_cores_h5py"
   ],
   "metadata": {
    "collapsed": false,
    "pycharm": {
     "name": "#%%\n"
    }
   }
  },
  {
   "cell_type": "code",
   "execution_count": 2,
   "outputs": [],
   "source": [
    "# project root\n",
    "project_root = 'C:/Users/Mahdi/Desktop/Summer21/RA/Codes/Minh_Mahdi_mod/prostate_cancer_classification'\n",
    "\n",
    "args = {}\n",
    "\n",
    "# yaml configuration file location\n",
    "args['config'] = '../yamls/coteaching_local_inference_Exact2D.yml'\n",
    "# experiment location to load\n",
    "args['exp_suffix'] = '_Patch/lr1e-5_fr.4numgrad6----inv.7train.4test_res10_UVA400_new32_Isomax2'\n",
    "\n",
    "# opt is a dictionary which contains all configurations\n",
    "with open(args['config']) as f:\n",
    "    opt = yaml.load(f, Loader)\n",
    "opt.update(args)\n",
    "opt = munchify(opt)\n",
    "opt.project_root = project_root\n",
    "opt = setup_directories(opt)\n",
    "\n",
    "num_workers = 0\n",
    "device = torch.device(f'cuda:0' if torch.cuda.is_available() else 'cpu')"
   ],
   "metadata": {
    "collapsed": false,
    "pycharm": {
     "name": "#%%\n"
    }
   }
  },
  {
   "cell_type": "code",
   "execution_count": 7,
   "outputs": [
    {
     "data": {
      "text/plain": "<All keys matched successfully>"
     },
     "execution_count": 7,
     "metadata": {},
     "output_type": "execute_result"
    }
   ],
   "source": [
    "# creating the neural network\n",
    "net = construct_network(device, opt)\n",
    "net = net[0]()\n",
    "\n",
    "# loading the saved weights to it\n",
    "suffix = '_1'\n",
    "net.load_state_dict(torch.load(f'{opt.project_root}/{opt.paths.checkpoint_dir}/{opt.test.which_iter}_coreN{suffix}.pth'))"
   ],
   "metadata": {
    "collapsed": false,
    "pycharm": {
     "name": "#%%\n"
    }
   }
  },
  {
   "cell_type": "code",
   "execution_count": 8,
   "outputs": [
    {
     "name": "stdout",
     "output_type": "stream",
     "text": [
      "loading data...\n",
      "loading done!\n"
     ]
    }
   ],
   "source": [
    "# datafile to load the data. This cell and the next cell are just for having some sense of how to feed data.\n",
    "# Please load your own data and make them similar to the shape of data in dataset.\n",
    "data_file = '/'.join([opt.data_source.data_root, opt.data_source.test_set])\n",
    "print('loading data...')\n",
    "input_data = load_matlab(data_file)\n",
    "print('loading done!')"
   ],
   "metadata": {
    "collapsed": false,
    "pycharm": {
     "name": "#%%\n"
    }
   }
  },
  {
   "cell_type": "code",
   "execution_count": 9,
   "outputs": [
    {
     "name": "stdout",
     "output_type": "stream",
     "text": [
      "cancer labels shape (1333, 2)\n",
      "data shape (3483, 1, 256, 256)\n"
     ]
    }
   ],
   "source": [
    "from utils.dataset import create_datasets_test_Exact\n",
    "\n",
    "initial_min_inv=.8\n",
    "min_inv=.4\n",
    "\n",
    "# which dataset to use for testset. Either train, val, or test\n",
    "state = 'test'\n",
    "dataset, core_len, true_involvement, patient_id_bk, gs_bk, roi_coors, true_labels, *ids = create_datasets_test_Exact(\n",
    "    '/'.join([opt.data_source.data_root, opt.data_source.test_set]), dataset_name=opt.data_source.dataset,\n",
    "    min_inv=min_inv, input_data=input_data, state=state, norm=opt.normalize_input)"
   ],
   "metadata": {
    "collapsed": false,
    "pycharm": {
     "name": "#%%\n"
    }
   }
  },
  {
   "cell_type": "code",
   "execution_count": 10,
   "outputs": [],
   "source": [
    "# This function takes in net, device, and pair of (input, label, location) and produces output\n",
    "# This is used in the next cell\n",
    "def predict(net, input_data, input_label, device):\n",
    "    from sklearn.metrics import confusion_matrix\n",
    "\n",
    "\n",
    "    # location is not important here, so we make it up randomly\n",
    "    input_location = torch.ones_like(input_label)\n",
    "\n",
    "    outputs = []\n",
    "    entropic_scores = []\n",
    "    total = correct = 0\n",
    "    cm = np.zeros((2,2))\n",
    "\n",
    "\n",
    "\n",
    "    no_data = len(input_data)\n",
    "    batch_size = 32\n",
    "    no_batch = no_data//batch_size\n",
    "    print('no batches and batch size:', no_batch, batch_size)\n",
    "    # built-in function of class torch.utils.Dataset which sets model in evaluation mode\n",
    "    # (here both evaluation and training are the same)\n",
    "    net.eval()\n",
    "    # apply model on test signals\n",
    "    with torch.no_grad():\n",
    "        for i in range(no_batch+1):\n",
    "            strt = i*batch_size\n",
    "            end = (i+1)*batch_size\n",
    "            x_raw, y_batch, n_batch = input_data[strt:end,...], input_label[strt:end,...], input_location[strt:end,...]\n",
    "            x_raw, y_batch, n_batch = x_raw.to(device), y_batch.to(device), n_batch.to(device)\n",
    "\n",
    "            pred = net(x_raw, n_batch)\n",
    "            pred = F.softmax(pred, dim=1)\n",
    "\n",
    "            probabilities = pred  # torch.nn.Softmax(dim=1)(pred)\n",
    "            entropies = -(probabilities * torch.log(probabilities)).sum(dim=1)\n",
    "            entropic_scores.append((-entropies).cpu().numpy())\n",
    "\n",
    "            outputs.append(pred.cpu().numpy())\n",
    "            total += y_batch.size(0)\n",
    "            correct += (pred.argmax(dim=1) == torch.argmax(y_batch, dim=1)).sum().item()\n",
    "            cm += confusion_matrix(y_batch.argmax(dim=1).cpu(), pred.argmax(dim=1).cpu(), labels=[0,1])\n",
    "\n",
    "    tn, fp, fn, tp = cm.ravel()\n",
    "    acc_sb = (tp/(tp+fn) + tn/(tn+fp))/2.0\n",
    "    outputs = np.concatenate(outputs)\n",
    "    entropic_scores = np.concatenate(entropic_scores)\n",
    "    return outputs, entropic_scores, correct / total, acc_sb"
   ],
   "metadata": {
    "collapsed": false,
    "pycharm": {
     "name": "#%%\n"
    }
   }
  },
  {
   "cell_type": "code",
   "execution_count": 14,
   "outputs": [
    {
     "name": "stdout",
     "output_type": "stream",
     "text": [
      "no batches and batch size: 108 32\n"
     ]
    }
   ],
   "source": [
    "# these are input data and label corresponding to them\n",
    "# label is just for plotts in the next cell, you can feed a random matrix of nx2 instead\n",
    "x_data = dataset.tensors[0]\n",
    "y_label = dataset.tensors[1]\n",
    "\n",
    "predictions, ood_scores, acc_s, acc_sb = predict(net, x_data, y_label, device)"
   ],
   "metadata": {
    "collapsed": false,
    "pycharm": {
     "name": "#%%\n"
    }
   }
  },
  {
   "cell_type": "code",
   "execution_count": 12,
   "outputs": [
    {
     "name": "stdout",
     "output_type": "stream",
     "text": [
      "              ACC_S  ACC_SB    AUC  AUPRC     F1    MCC   SEN   SPE    PRE  \\\n",
      "Epoch = Best  0.666   0.654  0.775  0.632  0.721  0.553  0.71  0.84  0.733   \n",
      "\n",
      "               ACC  ACC_B   CORR     MAE  \n",
      "Epoch = Best  0.79  0.775  0.565  22.546  \n"
     ]
    },
    {
     "data": {
      "text/plain": "<Figure size 666x378 with 1 Axes>",
      "image/png": "[encoded data removed]"
     },
     "metadata": {
      "needs_background": "light"
     },
     "output_type": "display_data"
    },
    {
     "ename": "ValueError",
     "evalue": "Image size of 8722x207694 pixels is too large. It must be less than 2^16 in each direction.",
     "output_type": "error",
     "traceback": [
      "\u001B[1;31m---------------------------------------------------------------------------\u001B[0m",
      "\u001B[1;31mValueError\u001B[0m                                Traceback (most recent call last)",
      "\u001B[1;32mc:\\users\\mahdi\\anaconda3\\envs\\env1\\lib\\site-packages\\IPython\\core\\formatters.py\u001B[0m in \u001B[0;36m__call__\u001B[1;34m(self, obj)\u001B[0m\n\u001B[0;32m    339\u001B[0m                 \u001B[1;32mpass\u001B[0m\u001B[1;33m\u001B[0m\u001B[1;33m\u001B[0m\u001B[0m\n\u001B[0;32m    340\u001B[0m             \u001B[1;32melse\u001B[0m\u001B[1;33m:\u001B[0m\u001B[1;33m\u001B[0m\u001B[1;33m\u001B[0m\u001B[0m\n\u001B[1;32m--> 341\u001B[1;33m                 \u001B[1;32mreturn\u001B[0m \u001B[0mprinter\u001B[0m\u001B[1;33m(\u001B[0m\u001B[0mobj\u001B[0m\u001B[1;33m)\u001B[0m\u001B[1;33m\u001B[0m\u001B[1;33m\u001B[0m\u001B[0m\n\u001B[0m\u001B[0;32m    342\u001B[0m             \u001B[1;31m# Finally look for special method names\u001B[0m\u001B[1;33m\u001B[0m\u001B[1;33m\u001B[0m\u001B[1;33m\u001B[0m\u001B[0m\n\u001B[0;32m    343\u001B[0m             \u001B[0mmethod\u001B[0m \u001B[1;33m=\u001B[0m \u001B[0mget_real_method\u001B[0m\u001B[1;33m(\u001B[0m\u001B[0mobj\u001B[0m\u001B[1;33m,\u001B[0m \u001B[0mself\u001B[0m\u001B[1;33m.\u001B[0m\u001B[0mprint_method\u001B[0m\u001B[1;33m)\u001B[0m\u001B[1;33m\u001B[0m\u001B[1;33m\u001B[0m\u001B[0m\n",
      "\u001B[1;32mc:\\users\\mahdi\\anaconda3\\envs\\env1\\lib\\site-packages\\IPython\\core\\pylabtools.py\u001B[0m in \u001B[0;36m<lambda>\u001B[1;34m(fig)\u001B[0m\n\u001B[0;32m    246\u001B[0m \u001B[1;33m\u001B[0m\u001B[0m\n\u001B[0;32m    247\u001B[0m     \u001B[1;32mif\u001B[0m \u001B[1;34m'png'\u001B[0m \u001B[1;32min\u001B[0m \u001B[0mformats\u001B[0m\u001B[1;33m:\u001B[0m\u001B[1;33m\u001B[0m\u001B[1;33m\u001B[0m\u001B[0m\n\u001B[1;32m--> 248\u001B[1;33m         \u001B[0mpng_formatter\u001B[0m\u001B[1;33m.\u001B[0m\u001B[0mfor_type\u001B[0m\u001B[1;33m(\u001B[0m\u001B[0mFigure\u001B[0m\u001B[1;33m,\u001B[0m \u001B[1;32mlambda\u001B[0m \u001B[0mfig\u001B[0m\u001B[1;33m:\u001B[0m \u001B[0mprint_figure\u001B[0m\u001B[1;33m(\u001B[0m\u001B[0mfig\u001B[0m\u001B[1;33m,\u001B[0m \u001B[1;34m'png'\u001B[0m\u001B[1;33m,\u001B[0m \u001B[1;33m**\u001B[0m\u001B[0mkwargs\u001B[0m\u001B[1;33m)\u001B[0m\u001B[1;33m)\u001B[0m\u001B[1;33m\u001B[0m\u001B[1;33m\u001B[0m\u001B[0m\n\u001B[0m\u001B[0;32m    249\u001B[0m     \u001B[1;32mif\u001B[0m \u001B[1;34m'retina'\u001B[0m \u001B[1;32min\u001B[0m \u001B[0mformats\u001B[0m \u001B[1;32mor\u001B[0m \u001B[1;34m'png2x'\u001B[0m \u001B[1;32min\u001B[0m \u001B[0mformats\u001B[0m\u001B[1;33m:\u001B[0m\u001B[1;33m\u001B[0m\u001B[1;33m\u001B[0m\u001B[0m\n\u001B[0;32m    250\u001B[0m         \u001B[0mpng_formatter\u001B[0m\u001B[1;33m.\u001B[0m\u001B[0mfor_type\u001B[0m\u001B[1;33m(\u001B[0m\u001B[0mFigure\u001B[0m\u001B[1;33m,\u001B[0m \u001B[1;32mlambda\u001B[0m \u001B[0mfig\u001B[0m\u001B[1;33m:\u001B[0m \u001B[0mretina_figure\u001B[0m\u001B[1;33m(\u001B[0m\u001B[0mfig\u001B[0m\u001B[1;33m,\u001B[0m \u001B[1;33m**\u001B[0m\u001B[0mkwargs\u001B[0m\u001B[1;33m)\u001B[0m\u001B[1;33m)\u001B[0m\u001B[1;33m\u001B[0m\u001B[1;33m\u001B[0m\u001B[0m\n",
      "\u001B[1;32mc:\\users\\mahdi\\anaconda3\\envs\\env1\\lib\\site-packages\\IPython\\core\\pylabtools.py\u001B[0m in \u001B[0;36mprint_figure\u001B[1;34m(fig, fmt, bbox_inches, **kwargs)\u001B[0m\n\u001B[0;32m    130\u001B[0m         \u001B[0mFigureCanvasBase\u001B[0m\u001B[1;33m(\u001B[0m\u001B[0mfig\u001B[0m\u001B[1;33m)\u001B[0m\u001B[1;33m\u001B[0m\u001B[1;33m\u001B[0m\u001B[0m\n\u001B[0;32m    131\u001B[0m \u001B[1;33m\u001B[0m\u001B[0m\n\u001B[1;32m--> 132\u001B[1;33m     \u001B[0mfig\u001B[0m\u001B[1;33m.\u001B[0m\u001B[0mcanvas\u001B[0m\u001B[1;33m.\u001B[0m\u001B[0mprint_figure\u001B[0m\u001B[1;33m(\u001B[0m\u001B[0mbytes_io\u001B[0m\u001B[1;33m,\u001B[0m \u001B[1;33m**\u001B[0m\u001B[0mkw\u001B[0m\u001B[1;33m)\u001B[0m\u001B[1;33m\u001B[0m\u001B[1;33m\u001B[0m\u001B[0m\n\u001B[0m\u001B[0;32m    133\u001B[0m     \u001B[0mdata\u001B[0m \u001B[1;33m=\u001B[0m \u001B[0mbytes_io\u001B[0m\u001B[1;33m.\u001B[0m\u001B[0mgetvalue\u001B[0m\u001B[1;33m(\u001B[0m\u001B[1;33m)\u001B[0m\u001B[1;33m\u001B[0m\u001B[1;33m\u001B[0m\u001B[0m\n\u001B[0;32m    134\u001B[0m     \u001B[1;32mif\u001B[0m \u001B[0mfmt\u001B[0m \u001B[1;33m==\u001B[0m \u001B[1;34m'svg'\u001B[0m\u001B[1;33m:\u001B[0m\u001B[1;33m\u001B[0m\u001B[1;33m\u001B[0m\u001B[0m\n",
      "\u001B[1;32mc:\\users\\mahdi\\anaconda3\\envs\\env1\\lib\\site-packages\\matplotlib\\backend_bases.py\u001B[0m in \u001B[0;36mprint_figure\u001B[1;34m(self, filename, dpi, facecolor, edgecolor, orientation, format, bbox_inches, pad_inches, bbox_extra_artists, backend, **kwargs)\u001B[0m\n\u001B[0;32m   2215\u001B[0m                     \u001B[0morientation\u001B[0m\u001B[1;33m=\u001B[0m\u001B[0morientation\u001B[0m\u001B[1;33m,\u001B[0m\u001B[1;33m\u001B[0m\u001B[1;33m\u001B[0m\u001B[0m\n\u001B[0;32m   2216\u001B[0m                     \u001B[0mbbox_inches_restore\u001B[0m\u001B[1;33m=\u001B[0m\u001B[0m_bbox_inches_restore\u001B[0m\u001B[1;33m,\u001B[0m\u001B[1;33m\u001B[0m\u001B[1;33m\u001B[0m\u001B[0m\n\u001B[1;32m-> 2217\u001B[1;33m                     **kwargs)\n\u001B[0m\u001B[0;32m   2218\u001B[0m             \u001B[1;32mfinally\u001B[0m\u001B[1;33m:\u001B[0m\u001B[1;33m\u001B[0m\u001B[1;33m\u001B[0m\u001B[0m\n\u001B[0;32m   2219\u001B[0m                 \u001B[1;32mif\u001B[0m \u001B[0mbbox_inches\u001B[0m \u001B[1;32mand\u001B[0m \u001B[0mrestore_bbox\u001B[0m\u001B[1;33m:\u001B[0m\u001B[1;33m\u001B[0m\u001B[1;33m\u001B[0m\u001B[0m\n",
      "\u001B[1;32mc:\\users\\mahdi\\anaconda3\\envs\\env1\\lib\\site-packages\\matplotlib\\backend_bases.py\u001B[0m in \u001B[0;36mwrapper\u001B[1;34m(*args, **kwargs)\u001B[0m\n\u001B[0;32m   1637\u001B[0m             \u001B[0mkwargs\u001B[0m\u001B[1;33m.\u001B[0m\u001B[0mpop\u001B[0m\u001B[1;33m(\u001B[0m\u001B[0marg\u001B[0m\u001B[1;33m)\u001B[0m\u001B[1;33m\u001B[0m\u001B[1;33m\u001B[0m\u001B[0m\n\u001B[0;32m   1638\u001B[0m \u001B[1;33m\u001B[0m\u001B[0m\n\u001B[1;32m-> 1639\u001B[1;33m         \u001B[1;32mreturn\u001B[0m \u001B[0mfunc\u001B[0m\u001B[1;33m(\u001B[0m\u001B[1;33m*\u001B[0m\u001B[0margs\u001B[0m\u001B[1;33m,\u001B[0m \u001B[1;33m**\u001B[0m\u001B[0mkwargs\u001B[0m\u001B[1;33m)\u001B[0m\u001B[1;33m\u001B[0m\u001B[1;33m\u001B[0m\u001B[0m\n\u001B[0m\u001B[0;32m   1640\u001B[0m \u001B[1;33m\u001B[0m\u001B[0m\n\u001B[0;32m   1641\u001B[0m     \u001B[1;32mreturn\u001B[0m \u001B[0mwrapper\u001B[0m\u001B[1;33m\u001B[0m\u001B[1;33m\u001B[0m\u001B[0m\n",
      "\u001B[1;32mc:\\users\\mahdi\\anaconda3\\envs\\env1\\lib\\site-packages\\matplotlib\\backends\\backend_agg.py\u001B[0m in \u001B[0;36mprint_png\u001B[1;34m(self, filename_or_obj, metadata, pil_kwargs, *args)\u001B[0m\n\u001B[0;32m    507\u001B[0m             \u001B[1;33m*\u001B[0m\u001B[0mmetadata\u001B[0m\u001B[1;33m*\u001B[0m\u001B[1;33m,\u001B[0m \u001B[0mincluding\u001B[0m \u001B[0mthe\u001B[0m \u001B[0mdefault\u001B[0m \u001B[1;34m'Software'\u001B[0m \u001B[0mkey\u001B[0m\u001B[1;33m.\u001B[0m\u001B[1;33m\u001B[0m\u001B[1;33m\u001B[0m\u001B[0m\n\u001B[0;32m    508\u001B[0m         \"\"\"\n\u001B[1;32m--> 509\u001B[1;33m         \u001B[0mFigureCanvasAgg\u001B[0m\u001B[1;33m.\u001B[0m\u001B[0mdraw\u001B[0m\u001B[1;33m(\u001B[0m\u001B[0mself\u001B[0m\u001B[1;33m)\u001B[0m\u001B[1;33m\u001B[0m\u001B[1;33m\u001B[0m\u001B[0m\n\u001B[0m\u001B[0;32m    510\u001B[0m         mpl.image.imsave(\n\u001B[0;32m    511\u001B[0m             \u001B[0mfilename_or_obj\u001B[0m\u001B[1;33m,\u001B[0m \u001B[0mself\u001B[0m\u001B[1;33m.\u001B[0m\u001B[0mbuffer_rgba\u001B[0m\u001B[1;33m(\u001B[0m\u001B[1;33m)\u001B[0m\u001B[1;33m,\u001B[0m \u001B[0mformat\u001B[0m\u001B[1;33m=\u001B[0m\u001B[1;34m\"png\"\u001B[0m\u001B[1;33m,\u001B[0m \u001B[0morigin\u001B[0m\u001B[1;33m=\u001B[0m\u001B[1;34m\"upper\"\u001B[0m\u001B[1;33m,\u001B[0m\u001B[1;33m\u001B[0m\u001B[1;33m\u001B[0m\u001B[0m\n",
      "\u001B[1;32mc:\\users\\mahdi\\anaconda3\\envs\\env1\\lib\\site-packages\\matplotlib\\backends\\backend_agg.py\u001B[0m in \u001B[0;36mdraw\u001B[1;34m(self)\u001B[0m\n\u001B[0;32m    400\u001B[0m     \u001B[1;32mdef\u001B[0m \u001B[0mdraw\u001B[0m\u001B[1;33m(\u001B[0m\u001B[0mself\u001B[0m\u001B[1;33m)\u001B[0m\u001B[1;33m:\u001B[0m\u001B[1;33m\u001B[0m\u001B[1;33m\u001B[0m\u001B[0m\n\u001B[0;32m    401\u001B[0m         \u001B[1;31m# docstring inherited\u001B[0m\u001B[1;33m\u001B[0m\u001B[1;33m\u001B[0m\u001B[1;33m\u001B[0m\u001B[0m\n\u001B[1;32m--> 402\u001B[1;33m         \u001B[0mself\u001B[0m\u001B[1;33m.\u001B[0m\u001B[0mrenderer\u001B[0m \u001B[1;33m=\u001B[0m \u001B[0mself\u001B[0m\u001B[1;33m.\u001B[0m\u001B[0mget_renderer\u001B[0m\u001B[1;33m(\u001B[0m\u001B[0mcleared\u001B[0m\u001B[1;33m=\u001B[0m\u001B[1;32mTrue\u001B[0m\u001B[1;33m)\u001B[0m\u001B[1;33m\u001B[0m\u001B[1;33m\u001B[0m\u001B[0m\n\u001B[0m\u001B[0;32m    403\u001B[0m         \u001B[1;31m# Acquire a lock on the shared font cache.\u001B[0m\u001B[1;33m\u001B[0m\u001B[1;33m\u001B[0m\u001B[1;33m\u001B[0m\u001B[0m\n\u001B[0;32m    404\u001B[0m         \u001B[1;32mwith\u001B[0m \u001B[0mRendererAgg\u001B[0m\u001B[1;33m.\u001B[0m\u001B[0mlock\u001B[0m\u001B[1;33m,\u001B[0m\u001B[0;31m \u001B[0m\u001B[0;31m\\\u001B[0m\u001B[1;33m\u001B[0m\u001B[1;33m\u001B[0m\u001B[0m\n",
      "\u001B[1;32mc:\\users\\mahdi\\anaconda3\\envs\\env1\\lib\\site-packages\\matplotlib\\backends\\backend_agg.py\u001B[0m in \u001B[0;36mget_renderer\u001B[1;34m(self, cleared)\u001B[0m\n\u001B[0;32m    416\u001B[0m                           and getattr(self, \"_lastKey\", None) == key)\n\u001B[0;32m    417\u001B[0m         \u001B[1;32mif\u001B[0m \u001B[1;32mnot\u001B[0m \u001B[0mreuse_renderer\u001B[0m\u001B[1;33m:\u001B[0m\u001B[1;33m\u001B[0m\u001B[1;33m\u001B[0m\u001B[0m\n\u001B[1;32m--> 418\u001B[1;33m             \u001B[0mself\u001B[0m\u001B[1;33m.\u001B[0m\u001B[0mrenderer\u001B[0m \u001B[1;33m=\u001B[0m \u001B[0mRendererAgg\u001B[0m\u001B[1;33m(\u001B[0m\u001B[0mw\u001B[0m\u001B[1;33m,\u001B[0m \u001B[0mh\u001B[0m\u001B[1;33m,\u001B[0m \u001B[0mself\u001B[0m\u001B[1;33m.\u001B[0m\u001B[0mfigure\u001B[0m\u001B[1;33m.\u001B[0m\u001B[0mdpi\u001B[0m\u001B[1;33m)\u001B[0m\u001B[1;33m\u001B[0m\u001B[1;33m\u001B[0m\u001B[0m\n\u001B[0m\u001B[0;32m    419\u001B[0m             \u001B[0mself\u001B[0m\u001B[1;33m.\u001B[0m\u001B[0m_lastKey\u001B[0m \u001B[1;33m=\u001B[0m \u001B[0mkey\u001B[0m\u001B[1;33m\u001B[0m\u001B[1;33m\u001B[0m\u001B[0m\n\u001B[0;32m    420\u001B[0m         \u001B[1;32melif\u001B[0m \u001B[0mcleared\u001B[0m\u001B[1;33m:\u001B[0m\u001B[1;33m\u001B[0m\u001B[1;33m\u001B[0m\u001B[0m\n",
      "\u001B[1;32mc:\\users\\mahdi\\anaconda3\\envs\\env1\\lib\\site-packages\\matplotlib\\backends\\backend_agg.py\u001B[0m in \u001B[0;36m__init__\u001B[1;34m(self, width, height, dpi)\u001B[0m\n\u001B[0;32m     94\u001B[0m         \u001B[0mself\u001B[0m\u001B[1;33m.\u001B[0m\u001B[0mwidth\u001B[0m \u001B[1;33m=\u001B[0m \u001B[0mwidth\u001B[0m\u001B[1;33m\u001B[0m\u001B[1;33m\u001B[0m\u001B[0m\n\u001B[0;32m     95\u001B[0m         \u001B[0mself\u001B[0m\u001B[1;33m.\u001B[0m\u001B[0mheight\u001B[0m \u001B[1;33m=\u001B[0m \u001B[0mheight\u001B[0m\u001B[1;33m\u001B[0m\u001B[1;33m\u001B[0m\u001B[0m\n\u001B[1;32m---> 96\u001B[1;33m         \u001B[0mself\u001B[0m\u001B[1;33m.\u001B[0m\u001B[0m_renderer\u001B[0m \u001B[1;33m=\u001B[0m \u001B[0m_RendererAgg\u001B[0m\u001B[1;33m(\u001B[0m\u001B[0mint\u001B[0m\u001B[1;33m(\u001B[0m\u001B[0mwidth\u001B[0m\u001B[1;33m)\u001B[0m\u001B[1;33m,\u001B[0m \u001B[0mint\u001B[0m\u001B[1;33m(\u001B[0m\u001B[0mheight\u001B[0m\u001B[1;33m)\u001B[0m\u001B[1;33m,\u001B[0m \u001B[0mdpi\u001B[0m\u001B[1;33m)\u001B[0m\u001B[1;33m\u001B[0m\u001B[1;33m\u001B[0m\u001B[0m\n\u001B[0m\u001B[0;32m     97\u001B[0m         \u001B[0mself\u001B[0m\u001B[1;33m.\u001B[0m\u001B[0m_filter_renderers\u001B[0m \u001B[1;33m=\u001B[0m \u001B[1;33m[\u001B[0m\u001B[1;33m]\u001B[0m\u001B[1;33m\u001B[0m\u001B[1;33m\u001B[0m\u001B[0m\n\u001B[0;32m     98\u001B[0m \u001B[1;33m\u001B[0m\u001B[0m\n",
      "\u001B[1;31mValueError\u001B[0m: Image size of 8722x207694 pixels is too large. It must be less than 2^16 in each direction."
     ]
    },
    {
     "data": {
      "text/plain": "<Figure size 432x288 with 1 Axes>"
     },
     "metadata": {
      "needs_background": "light"
     },
     "output_type": "display_data"
    },
    {
     "data": {
      "text/plain": "<Figure size 432x288 with 1 Axes>",
      "image/png": "[encoded data removed]"
     },
     "metadata": {
      "needs_background": "light"
     },
     "output_type": "display_data"
    }
   ],
   "source": [
    "predicted_involvement, predicted_involvement2, ood, prediction_maps = infer_core_wise(predictions, core_len, roi_coors,\n",
    "                                                                                      ood_scores)\n",
    "scores = {'acc_s': acc_s, 'acc_sb': acc_sb}\n",
    "scores = compute_metrics(predicted_involvement, true_involvement,\n",
    "                         current_epoch=0, verbose=True, scores=scores,\n",
    "                         threshold=0.5)\n",
    "\n",
    "net_interpretation(predicted_involvement, predicted_involvement2, patient_id_bk,\n",
    "                   true_involvement, gs_bk, opt.paths.result_dir,\n",
    "                   ood=ood, current_epoch=0, set_name=state,\n",
    "                   writer=False, scores=scores, threshold=0.5, plotting=True)"
   ],
   "metadata": {
    "collapsed": false,
    "pycharm": {
     "name": "#%%\n"
    }
   }
  }
 ],
 "metadata": {
  "kernelspec": {
   "display_name": "Python 3",
   "language": "python",
   "name": "python3"
  },
  "language_info": {
   "codemirror_mode": {
    "name": "ipython",
    "version": 2
   },
   "file_extension": ".py",
   "mimetype": "text/x-python",
   "name": "python",
   "nbconvert_exporter": "python",
   "pygments_lexer": "ipython2",
   "version": "2.7.6"
  }
 },
 "nbformat": 4,
 "nbformat_minor": 0
}