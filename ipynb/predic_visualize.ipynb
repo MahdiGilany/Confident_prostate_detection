{
 "cells": [
  {
   "cell_type": "code",
   "execution_count": 1,
   "outputs": [],
   "source": [
    "import numpy as np\n",
    "import openpyxl.utils\n",
    "%matplotlib inline\n",
    "\n",
    "import torch\n",
    "import pylab as plt\n",
    "from munch import munchify\n",
    "from torch.nn import functional as F\n",
    "from torch.utils.data import TensorDataset, DataLoader\n",
    "\n",
    "from utils import *\n",
    "from tqdm import tqdm\n",
    "# from preprocessing.s02_create_dataset import load_cores_h5py"
   ],
   "metadata": {
    "collapsed": false,
    "pycharm": {
     "name": "#%%\n"
    }
   }
  },
  {
   "cell_type": "code",
   "execution_count": 2,
   "outputs": [],
   "source": [
    "# project root\n",
    "project_root = 'C:/Users/Mahdi/Desktop/Summer21/RA/Codes/Minh_Mahdi_mod/prostate_cancer_classification'\n",
    "\n",
    "args = {}\n",
    "\n",
    "# yaml configuration file location\n",
    "args['config'] = '../yamls/coteaching_local_inference_Exact2D.yml'\n",
    "# experiment location to load\n",
    "args['exp_suffix'] = '_Patch/1e-4_onecycleNovo_fr.4numgrad6----res10_srs26_vs.4_edl-mse-anl50-thr.2_ep120'\n",
    "# args['exp_suffix'] = '_Patch/1e-4_onecycleNovo_fr.4numgrad6----inv.7train.4test_res10_UVA400_srs26_vs.4'\n",
    "# args['exp_suffix'] = '_Patch/1e-4_onecycleNovo_fr.4numgrad6----res10_UVA400_srs26_vs.4'\n",
    "\n",
    "# opt is a dictionary which contains all configurations\n",
    "with open(args['config']) as f:\n",
    "    opt = yaml.load(f, Loader)\n",
    "opt.update(args)\n",
    "opt = munchify(opt)\n",
    "opt.project_root = project_root\n",
    "opt = setup_directories(opt)\n",
    "\n",
    "num_workers = 0\n",
    "device = torch.device(f'cuda:0' if torch.cuda.is_available() else 'cpu')"
   ],
   "metadata": {
    "collapsed": false,
    "pycharm": {
     "name": "#%%\n"
    }
   }
  },
  {
   "cell_type": "code",
   "execution_count": 3,
   "outputs": [
    {
     "data": {
      "text/plain": "<All keys matched successfully>"
     },
     "execution_count": 3,
     "metadata": {},
     "output_type": "execute_result"
    }
   ],
   "source": [
    "# creating the neural network\n",
    "net = construct_network(device, opt)\n",
    "net = net[0]()\n",
    "\n",
    "# loading the saved weights to it\n",
    "suffix = '_1'\n",
    "net.load_state_dict(torch.load(f'{opt.project_root}/{opt.paths.checkpoint_dir}/{opt.test.which_iter}_coreN{suffix}.pth'))"
   ],
   "metadata": {
    "collapsed": false,
    "pycharm": {
     "name": "#%%\n"
    }
   }
  },
  {
   "cell_type": "code",
   "execution_count": 4,
   "outputs": [
    {
     "name": "stdout",
     "output_type": "stream",
     "text": [
      "loading data...\n",
      "loading done!\n"
     ]
    }
   ],
   "source": [
    "# datafile to load the data. This cell and the next cell are just for having some sense of how to feed data.\n",
    "# Please load your own data and make them similar to the shape of data in dataset.\n",
    "data_file = '/'.join([opt.data_source.data_root, opt.data_source.test_set])\n",
    "print('loading data...')\n",
    "input_data = load_matlab(data_file)\n",
    "print('loading done!')"
   ],
   "metadata": {
    "collapsed": false,
    "pycharm": {
     "name": "#%%\n"
    }
   }
  },
  {
   "cell_type": "code",
   "execution_count": 5,
   "outputs": [
    {
     "name": "stderr",
     "output_type": "stream",
     "text": [
      "C:\\Users\\Mahdi\\Desktop\\Summer21\\RA\\Codes\\Minh_Mahdi_mod\\prostate_cancer_classification\\utils\\dataset.py:629: VisibleDeprecationWarning: Creating an ndarray from ragged nested sequences (which is a list-or-tuple of lists-or-tuples-or ndarrays with different lengths or shapes) is deprecated. If you meant to do this, you must specify 'dtype=object' when creating the ndarray\n",
      "  input_data[f'data_{set_name}'] = np.array(input_data[f'data_{set_name}'])\n"
     ]
    }
   ],
   "source": [
    "input_data = dataset.preprocess(input_data, norm=opt.normalize_input, shffl_patients=False, signal_split=False,\n",
    "                        split_rs=opt.split_random_state, val_size=opt.val_size, augment=opt.aug_type != 'none')"
   ],
   "metadata": {
    "collapsed": false,
    "pycharm": {
     "name": "#%%\n"
    }
   }
  },
  {
   "cell_type": "code",
   "execution_count": 6,
   "outputs": [],
   "source": [
    "# This function takes in net, device, and pair of (input, label, location) and produces output\n",
    "# This is used in the next cell\n",
    "def predict(net, input_data, input_label, device):\n",
    "    from sklearn.metrics import confusion_matrix\n",
    "\n",
    "\n",
    "    # location is not important here, so we make it up randomly\n",
    "    input_location = torch.ones_like(input_label)\n",
    "\n",
    "    outputs = []\n",
    "    entropic_scores = []\n",
    "    uncertainty = []\n",
    "    total = correct = 0\n",
    "    cm = np.zeros((2,2))\n",
    "\n",
    "\n",
    "\n",
    "    no_data = len(input_data)\n",
    "    batch_size = 32\n",
    "    no_batch = no_data//batch_size\n",
    "    print('no batches and batch size:', no_batch, batch_size)\n",
    "    # built-in function of class torch.utils.Dataset which sets model in evaluation mode\n",
    "    # (here both evaluation and training are the same)\n",
    "    net.eval()\n",
    "    # apply model on test signals\n",
    "    with torch.no_grad():\n",
    "        for i in range(no_batch+1):\n",
    "            strt = i*batch_size\n",
    "            end = (i+1)*batch_size\n",
    "            x_raw, y_batch, n_batch = input_data[strt:end,...], input_label[strt:end,...], input_location[strt:end,...]\n",
    "            x_raw, y_batch, n_batch = x_raw.to(device), y_batch.to(device), n_batch.to(device)\n",
    "\n",
    "            out1 = net(x_raw, n_batch)\n",
    "            pred = F.softmax(out1, dim=1)\n",
    "\n",
    "            probabilities = pred  # torch.nn.Softmax(dim=1)(pred)\n",
    "            entropies = -(probabilities * torch.log(probabilities)).sum(dim=1)\n",
    "            entropic_scores.append((-entropies).cpu().numpy())\n",
    "\n",
    "            alpha = F.relu(out1) + 1\n",
    "            u = 2. / torch.sum(alpha, dim=1, keepdim=True).reshape(-1)\n",
    "            uncertainty.append(u.cpu().numpy())\n",
    "\n",
    "            outputs.append(pred.cpu().numpy())\n",
    "            total += y_batch.size(0)\n",
    "            correct += (pred.argmax(dim=1) == torch.argmax(y_batch, dim=1)).sum().item()\n",
    "            # correct += ((pred[:,1]>=0.4) == torch.argmax(y_batch, dim=1)).sum().item()\n",
    "            cm += confusion_matrix(y_batch.argmax(dim=1).cpu(), pred.argmax(dim=1).cpu(), labels=[0,1])\n",
    "\n",
    "    tn, fp, fn, tp = cm.ravel()\n",
    "    acc_sb = (tp/(tp+fn) + tn/(tn+fp))/2.0\n",
    "    outputs = np.concatenate(outputs)\n",
    "    uncertainty = np.concatenate(uncertainty)\n",
    "    entropic_scores = np.concatenate(entropic_scores)\n",
    "    return outputs, uncertainty, entropic_scores, correct / total, acc_sb\n",
    "\n",
    "def infer_core_wise2(predictions, uncertainty, core_len, roi_coors, unc_thr, ood_scores=None):\n",
    "    \"\"\"\n",
    "    Infer core-wise predictions based on signal-wise predictions.\n",
    "    Input must be 1-D array\n",
    "    :param predictions: signal-wise predictions\n",
    "    :param core_len: length of each core\n",
    "    :param roi_coors: pixel-wise coordinates of ROI area\n",
    "    :param ood_scores:\n",
    "    :return:\n",
    "    \"\"\"\n",
    "    counter = 0\n",
    "    no_uncCores = 0\n",
    "    core_feat1, core_res1, core_l1, core_l2, core_l3, core_ood = [], [], [], [], [], []\n",
    "    prediction_maps = []\n",
    "\n",
    "    # find a label for each core\n",
    "    for i in range(len(core_len)):\n",
    "        temp = predictions[counter:(counter + core_len[i])]\n",
    "        un = uncertainty[counter:(counter + core_len[i])]\n",
    "        temp2 = temp[un <= unc_thr, ...]\n",
    "        if len(temp2) <= 30:\n",
    "            no_uncCores += 1\n",
    "            core_l3.append(np.nan)\n",
    "        else:\n",
    "            core_l3.append(np.greater(temp2[:, 1], temp2[:, 0]).sum() / core_len[i])\n",
    "        core_l1.append(np.greater(temp[:, 1], temp[:, 0]).sum() / core_len[i])\n",
    "        core_l2.append(temp[:, 1].sum() / core_len[i])\n",
    "        core_ood.append(ood_scores)\n",
    "        counter += core_len[i]\n",
    "\n",
    "    if no_uncCores!=0:\n",
    "        print(f'no uncertain cores {no_uncCores}')\n",
    "    return (core_l1, core_l2, core_l3), core_ood, prediction_maps"
   ],
   "metadata": {
    "collapsed": false,
    "pycharm": {
     "name": "#%%\n"
    }
   }
  },
  {
   "cell_type": "code",
   "execution_count": 7,
   "outputs": [],
   "source": [
    "def net_interpretation2(predicted_label, patient_id, involvement, gleason_score, result_dir=None,\n",
    "                       ood=None, cct=(0.2, 0.6, 1), cbt=(0, 1, 0.6), cf=(1, 0.2, 0.6),\n",
    "                       current_epoch=None, set_name='Test', writer=None, scores: dict = None, threshold=0.5,\n",
    "                       plotting=True,  edl=False):\n",
    "    import seaborn as sns\n",
    "    predicted_label_nounc = predicted_label[0]\n",
    "    # in case edl is not used\n",
    "    predicted_label_unc = predicted_label[1]\n",
    "    pred_inv_wNan = predicted_label[1]\n",
    "\n",
    "    if edl:\n",
    "        pred_inv_wNan = predicted_label[2]\n",
    "        predicted_label_unc = np.array([pred_inv_wNan[i] for i in range(len(pred_inv_wNan))\n",
    "                                              if not np.isnan(pred_inv_wNan[i])])\n",
    "\n",
    "    # predicted_label = np.array([item > 0.5 for item in predicted_label])\n",
    "    true_label = np.array([item > 0 for item in involvement])\n",
    "\n",
    "    predicted_label_th = np.array(predicted_label_nounc)\n",
    "    predicted_label_th[predicted_label_th > threshold] = 1\n",
    "    predicted_label_th[predicted_label_th <= threshold] = 0\n",
    "\n",
    "    andlabels = np.logical_and(predicted_label_th, true_label)\n",
    "\n",
    "    patients = np.unique(patient_id)\n",
    "    # Invs = np.ones_like(involvement)\n",
    "    Invs = involvement * 100\n",
    "    gs = np.array(gleason_score)\n",
    "    indx = []\n",
    "    maxc = 0\n",
    "    for ip in patients:\n",
    "        temp = np.where(patient_id == ip)[0]\n",
    "        indx.append(temp)\n",
    "        maxc = max(maxc, len(temp))\n",
    "\n",
    "    inv = np.zeros((len(patients), maxc), dtype=float)\n",
    "    #    cmaps=[]\n",
    "\n",
    "    label = []\n",
    "    cmap = [cf if True else [0, 0, 1] for i in range(len(true_label))]\n",
    "\n",
    "    for i in range(len(true_label)):\n",
    "        if andlabels[i] == 1:\n",
    "            cmap[i] = cct\n",
    "        elif (predicted_label_th[i] + true_label[i]) == 0:\n",
    "            cmap[i] = cbt\n",
    "        else:\n",
    "            cmap[i] = cf\n",
    "    cmap = np.array(cmap)\n",
    "    cmaps = np.zeros((len(patients), maxc, 3), dtype=float)\n",
    "    for ip in range(len(patients)):\n",
    "        indxip = indx[ip]\n",
    "        inv[ip, :len(indxip)] = Invs[indxip]\n",
    "        cmaps[ip, :len(indxip)] = cmap[indxip]\n",
    "        label.append(gs[indxip])\n",
    "        for i in range(len(label[ip])):\n",
    "            if label[ip][i] == 'Benign':\n",
    "                inv[ip, i] = 50\n",
    "                label[ip][i] = '-'\n",
    "            if label[ip][i] == 'FB':\n",
    "                inv[ip, i] = 50\n",
    "                label[ip][i] = '-'\n",
    "\n",
    "    fig1, ax1 = plt.subplots()\n",
    "    #todo: might overkill memory\n",
    "    fig1.set_size_inches(18.5*2, 10.5*2)\n",
    "    barbase = np.cumsum(np.concatenate((np.zeros((inv.shape[0], 1)), inv[:, 0:-1]), axis=1), 1)\n",
    "\n",
    "    for i in range(maxc):\n",
    "        ax1.bar(np.arange(len(patients)), inv[:, i].tolist(), 0.7, bottom=barbase[:, i], color=cmaps[:, i])\n",
    "        ax1.EdgeColor = 'k'\n",
    "    plt.xticks(np.arange(len(patients)), patients.astype(int))\n",
    "    plt.xlabel('Patient No.')\n",
    "\n",
    "    width = np.array([p.get_width() for p in ax1.patches][0]).squeeze()\n",
    "    joblblpos = inv / 2 + barbase\n",
    "    for k1 in range(inv.shape[0]):\n",
    "        for k2 in range(inv.shape[1]):\n",
    "            plt.text(k1-width/2., joblblpos[k1, k2], label[k1][k2] if inv[k1, k2] != 0 else '')\n",
    "    # plt.savefig(f'{result_dir}/{set_name}_acc_per_core{current_epoch_str}.png')\n",
    "    if plotting:\n",
    "        plt.show()\n",
    "\n",
    "    ood_sum = np.array([-_ood.sum() for _ood in ood])\n",
    "    ood_normalized = ood_sum / ood_sum.sum()\n",
    "\n",
    "    fig2 = plt.figure(2)\n",
    "    ax2 = sns.scatterplot(x=involvement, y=predicted_label_nounc, size=ood_normalized, legend=False)\n",
    "    diag = np.arange(0, 1, .05)\n",
    "    sns.lineplot(x=diag, y=diag, color='r', ax=ax2)\n",
    "    ax2.axvspan(-.1, 0.1, -.1, .5, alpha=.2, facecolor='lightgreen')\n",
    "    ax2.axvspan(-.1, 0.1, .51, 1., alpha=.2, facecolor='red')\n",
    "    ax2.axvspan(0.11, 1.1, -.1, .5, alpha=.2, facecolor='grey')\n",
    "    ax2.axvspan(0.11, 1.1, .51, 1., alpha=.2, facecolor='moccasin')\n",
    "    ax2.axvline(x=.105, linewidth=.6, linestyle='--', color='black')\n",
    "    ax2.axhline(y=.505, linewidth=.6, linestyle='--', color='black')\n",
    "    ax2.axis('square')\n",
    "    ax2.set(ylim=[-.1, 1.1], xlim=[-.1, 1.1])\n",
    "    if scores is not None:\n",
    "        ax1.set_title(f'ACC: {scores[\"acc\"]:.2f} | ACC_B: {scores[\"acc_b\"]:.2f} '\n",
    "                      f'AUC: {scores[\"auc\"]:.2f} | SEN: {scores[\"sen\"]:.2f} | SPE: {scores[\"spe\"]:.2f}')\n",
    "        ax2.set(title=f'Correlation Coefficient = {scores[\"corr\"]:.3f} | MAE = {scores[\"mae\"]:.3f}',\n",
    "                xlabel='True Involvement', ylabel='Predicted Involvement'\n",
    "                )\n",
    "    # plt.savefig('point_cloud3.png')\n",
    "    if plotting:\n",
    "        plt.show()\n",
    "\n",
    "#############################################################################################\n",
    "    # new plot based on new way of finding core predictions\n",
    "    predicted_label_th_unc = np.copy(np.array(pred_inv_wNan))\n",
    "    predicted_label_th_unc[predicted_label_th_unc > threshold] = 1\n",
    "    predicted_label_th_unc[predicted_label_th_unc <= threshold] = 0\n",
    "\n",
    "    andlabels_unc = np.logical_and(predicted_label_th_unc, true_label)\n",
    "\n",
    "    label = []\n",
    "    cmap = [cf if True else [0, 0, 1] for i in range(len(true_label))]\n",
    "\n",
    "    for i in range(len(true_label)):\n",
    "        if andlabels_unc[i] == 1:\n",
    "            cmap[i] = cct\n",
    "        elif (predicted_label_th_unc[i] + true_label[i]) == 0:\n",
    "            cmap[i] = cbt\n",
    "        else:\n",
    "            cmap[i] = cf\n",
    "        if np.isnan(pred_inv_wNan[i]):\n",
    "            cmap[i] = (.9,.9,.9)\n",
    "\n",
    "    cmap = np.array(cmap)\n",
    "    cmaps = np.zeros((len(patients), maxc, 3), dtype=float)\n",
    "    for ip in range(len(patients)):\n",
    "        indxip = indx[ip]\n",
    "        inv[ip, :len(indxip)] = Invs[indxip]\n",
    "        cmaps[ip, :len(indxip)] = cmap[indxip]\n",
    "        label.append(gs[indxip])\n",
    "        for i in range(len(label[ip])):\n",
    "            if label[ip][i] == 'Benign':\n",
    "                inv[ip, i] = 50\n",
    "                label[ip][i] = '-'\n",
    "            if label[ip][i] == 'FB':\n",
    "                inv[ip, i] = 50\n",
    "                label[ip][i] = '-'\n",
    "\n",
    "    fig3, ax3 = plt.subplots()\n",
    "    fig3.set_size_inches(18.5*2, 10.5*2)\n",
    "\n",
    "    for i in range(maxc):\n",
    "        ax3.bar(np.arange(len(patients)), inv[:, i].tolist(), 0.7, bottom=barbase[:, i], color=cmaps[:, i])\n",
    "        ax3.EdgeColor = 'k'\n",
    "    plt.xticks(np.arange(len(patients)), patients.astype(int))\n",
    "    plt.xlabel('Patient No.')\n",
    "\n",
    "    width = np.array([p.get_width() for p in ax3.patches][0]).squeeze()\n",
    "    joblblpos = inv / 2 + barbase\n",
    "    for k1 in range(inv.shape[0]):\n",
    "        for k2 in range(inv.shape[1]):\n",
    "            plt.text(k1-width/2., joblblpos[k1, k2], label[k1][k2] if inv[k1, k2] != 0 else '')\n",
    "    if plotting:\n",
    "        plt.show()\n",
    "\n",
    "    fig4 = plt.figure(4)\n",
    "    inv_unc = np.array([involvement[i] for i in range(len(pred_inv_wNan))\n",
    "              if not np.isnan(pred_inv_wNan[i])])\n",
    "    ood_unc = np.array([ood_normalized[i] for i in range(len(pred_inv_wNan))\n",
    "              if not np.isnan(pred_inv_wNan[i])])\n",
    "    if len(inv_unc)==0:\n",
    "        inv_unc = [1.]\n",
    "        predicted_label_unc = [0.]\n",
    "        ood_unc = ood_normalized[0]\n",
    "    ax4 = sns.scatterplot(x=inv_unc, y=predicted_label_unc, size=ood_unc, legend=False)\n",
    "    diag = np.arange(0, 1, .05)\n",
    "    sns.lineplot(x=diag, y=diag, color='r', ax=ax4)\n",
    "    ax4.axvspan(-.1, 0.1, -.1, .5, alpha=.2, facecolor='lightgreen')\n",
    "    ax4.axvspan(-.1, 0.1, .51, 1., alpha=.2, facecolor='red')\n",
    "    ax4.axvspan(0.11, 1.1, -.1, .5, alpha=.2, facecolor='grey')\n",
    "    ax4.axvspan(0.11, 1.1, .51, 1., alpha=.2, facecolor='moccasin')\n",
    "    ax4.axvline(x=.105, linewidth=.6, linestyle='--', color='black')\n",
    "    ax4.axhline(y=.505, linewidth=.6, linestyle='--', color='black')\n",
    "    ax4.axis('square')\n",
    "    ax4.set(ylim=[-.1, 1.1], xlim=[-.1, 1.1])\n",
    "\n",
    "    if plotting:\n",
    "        plt.show()\n",
    "\n",
    "    if writer:\n",
    "        # img = plot_to_image(fig4)\n",
    "        writer.add_figure(f'{set_name}/core_acc', fig1, global_step=current_epoch)\n",
    "        writer.add_figure(f'{set_name}/core_inv_threshold', fig2, global_step=current_epoch)\n",
    "        writer.add_figure(f'{set_name}/core_acc_mean', fig3, global_step=current_epoch)\n",
    "        writer.add_figure(f'{set_name}/core_inv_mean', fig4, global_step=current_epoch)\n",
    "\n",
    "    plt.close('all')"
   ],
   "metadata": {
    "collapsed": false,
    "pycharm": {
     "name": "#%%\n"
    }
   }
  },
  {
   "cell_type": "code",
   "execution_count": 20,
   "outputs": [
    {
     "name": "stdout",
     "output_type": "stream",
     "text": [
      "cancer labels shape (1051, 2)\n",
      "data shape (2808, 1, 256, 256)\n"
     ]
    }
   ],
   "source": [
    "from utils.dataset import create_datasets_test_Exact\n",
    "\n",
    "initial_min_inv=.8\n",
    "min_inv=.4\n",
    "\n",
    "# which dataset to use for testset. Either train, val, or test\n",
    "state = 'test'\n",
    "dataset, core_len, true_involvement, patient_id_bk, gs_bk, roi_coors, true_labels, *ids = create_datasets_test_Exact(\n",
    "    '/'.join([opt.data_source.data_root, opt.data_source.test_set]), dataset_name=opt.data_source.dataset,\n",
    "    min_inv=min_inv, input_data=input_data, state=state, norm=opt.normalize_input)"
   ],
   "metadata": {
    "collapsed": false,
    "pycharm": {
     "name": "#%%\n"
    }
   }
  },
  {
   "cell_type": "code",
   "execution_count": 21,
   "outputs": [
    {
     "name": "stdout",
     "output_type": "stream",
     "text": [
      "Patient 36: (0) \n",
      " ['LML' 'LBM' 'RAL' 'RML'] \n",
      " [0.  0.  0.6 0.6] \n",
      " ['Benign' 'Benign' 'GS7' 'GS8']\n",
      "Patient 47: (1) \n",
      " ['LMM' 'LML' 'RBL'] \n",
      " [0. 0. 0.] \n",
      " ['Benign' 'Benign' 'Benign']\n",
      "Patient 59: (2) \n",
      " ['LAL'] \n",
      " [0.4] \n",
      " ['GS7']\n",
      "Patient 70: (3) \n",
      " ['LBM' 'LML'] \n",
      " [0. 0.] \n",
      " ['Benign' 'Benign']\n",
      "Patient 98: (4) \n",
      " ['LML' 'LAL'] \n",
      " [0. 0.] \n",
      " ['Benign' 'Benign']\n",
      "Patient 103: (5) \n",
      " ['LAL' 'LAM' 'LBL' 'LBM' 'LML' 'LMM' 'RAL' 'RAM' 'RBL' 'RBM' 'RML' 'RMM'] \n",
      " [0.9  0.95 0.9  0.95 0.9  0.95 0.7  0.8  0.7  0.8  0.8  0.4 ] \n",
      " ['GS8' 'GS9' 'GS9' 'GS9' 'GS9' 'GS9' 'GS9' 'GS8' 'GS8' 'GS8' 'GS9' 'GS8']\n",
      "Patient 111: (6) \n",
      " ['RBL' 'RBM' 'RML' 'RMM'] \n",
      " [0.8 0.8 0.8 0.7] \n",
      " ['GS8' 'GS8' 'GS8' 'GS8']\n",
      "Patient 118: (7) \n",
      " ['LAM' 'LBL'] \n",
      " [0. 0.] \n",
      " ['Benign' 'Benign']\n",
      "Patient 125: (8) \n",
      " ['RAL'] \n",
      " [0.] \n",
      " ['Benign']\n",
      "Patient 145: (9) \n",
      " ['LML' 'RML'] \n",
      " [0. 0.] \n",
      " ['Benign' 'Benign']\n",
      "Patient 163: (10) \n",
      " ['LAL' 'LBL' 'LBM' 'LML'] \n",
      " [0.8 0.9 0.4 0.7] \n",
      " ['GS7' 'GS7' 'GS7' 'GS7']\n",
      "Patient 180: (11) \n",
      " ['LBL' 'LMM'] \n",
      " [0. 0.] \n",
      " ['Benign' 'Benign']\n",
      "Patient 199: (12) \n",
      " ['LBM' 'LMM'] \n",
      " [0. 0.] \n",
      " ['Benign' 'Benign']\n",
      "Patient 211: (13) \n",
      " ['LAL' 'RAL' 'RAM' 'RBL' 'RBM' 'RML'] \n",
      " [0.   0.66 1.   0.64 0.55 0.83] \n",
      " ['Benign' 'GS7' 'GS7' 'GS7' 'GS7' 'GS7']\n",
      "Patient 216: (14) \n",
      " ['LAL' 'LAM' 'RBL'] \n",
      " [0. 0. 0.] \n",
      " ['Benign' 'Benign' 'Benign']\n",
      "Patient 224: (15) \n",
      " ['LBM'] \n",
      " [0.] \n",
      " ['Benign']\n",
      "Patient 288: (16) \n",
      " ['LBL'] \n",
      " [0.] \n",
      " ['Benign']\n",
      "Patient 300: (17) \n",
      " ['RBM'] \n",
      " [0.] \n",
      " ['Benign']\n",
      "Patient 306: (18) \n",
      " ['RAM' 'LAM' 'RML' 'LBL'] \n",
      " [0. 0. 0. 0.] \n",
      " ['Benign' 'Benign' 'Benign' 'Benign']\n",
      "Patient 312: (19) \n",
      " ['LAL' 'RBL'] \n",
      " [0. 0.] \n",
      " ['Benign' 'Benign']\n",
      "Patient 385: (20) \n",
      " ['RMM' 'LMM' 'RML' 'LBL'] \n",
      " [0. 0. 0. 0.] \n",
      " ['Benign' 'Benign' 'Benign' 'Benign']\n",
      "Patient 410: (21) \n",
      " ['RBM' 'RAM' 'RML' 'RBL' 'RAL'] \n",
      " [0. 0. 0. 0. 0.] \n",
      " ['Benign' 'Benign' 'Benign' 'Benign' 'Benign']\n",
      "Patient 470: (22) \n",
      " ['LBM' 'LML'] \n",
      " [0. 0.] \n",
      " ['Benign' 'Benign']\n",
      "Patient 471: (23) \n",
      " ['LBM' 'RAM'] \n",
      " [0. 0.] \n",
      " ['Benign' 'Benign']\n",
      "Patient 485: (24) \n",
      " ['RAM' 'LBL'] \n",
      " [0. 0.] \n",
      " ['Benign' 'Benign']\n",
      "Patient 515: (25) \n",
      " ['LBM' 'RBL' 'RBM' 'RMM'] \n",
      " [0.   0.99 0.9  0.95] \n",
      " ['Benign' 'GS9' 'GS9' 'GS9']\n",
      "Patient 623: (26) \n",
      " ['RBM' 'LMM'] \n",
      " [0. 0.] \n",
      " ['Benign' 'Benign']\n"
     ]
    }
   ],
   "source": [
    "# finding the name of cores:\n",
    "counter = 0\n",
    "core_names = []\n",
    "\n",
    "# find a label for each core\n",
    "all_names = ['LAL','LAM','LBL','LBM','LML','LMM','RAL','RAM','RBL','RBM','RML','RMM']\n",
    "for i in range(len(core_len)):\n",
    "    temp = dataset.tensors[2][counter]\n",
    "    name_index = torch.argmax(temp).cpu().numpy()\n",
    "    core_names.append(all_names[name_index])\n",
    "    counter += core_len[i]\n",
    "core_names = np.array(core_names)\n",
    "patients = np.unique(patient_id_bk)\n",
    "for i, ip in enumerate(patients):\n",
    "    indx = np.where(patient_id_bk == ip)[0]\n",
    "    print(f'Patient {int(ip)}: ({i}) \\n', core_names[indx],'\\n', true_involvement[indx],'\\n',gs_bk[indx])"
   ],
   "metadata": {
    "collapsed": false,
    "pycharm": {
     "name": "#%%\n"
    }
   }
  },
  {
   "cell_type": "code",
   "execution_count": 22,
   "outputs": [
    {
     "name": "stdout",
     "output_type": "stream",
     "text": [
      "no batches and batch size: 87 32\n"
     ]
    }
   ],
   "source": [
    "# these are input data and label corresponding to them\n",
    "# label is just for plotts in the next cell, you can feed a random matrix of nx2 instead\n",
    "x_data = dataset.tensors[0]\n",
    "y_label = dataset.tensors[1]\n",
    "\n",
    "predictions, uncertainty, ood_scores, acc_s, acc_sb = predict(net, x_data, y_label, device)"
   ],
   "metadata": {
    "collapsed": false,
    "pycharm": {
     "name": "#%%\n"
    }
   }
  },
  {
   "cell_type": "code",
   "execution_count": 24,
   "outputs": [
    {
     "name": "stdout",
     "output_type": "stream",
     "text": [
      "no uncertain cores 64\n",
      "              ACC_S  ACC_SB    AUC  AUPRC     F1    SEN    SPE   ACC  ACC_B  \\\n",
      "Epoch = Best  0.693   0.682  0.848  0.582  0.667  0.645  0.816  0.75  0.731   \n",
      "\n",
      "               CORR     MAE  ACC_B-UNCRTAN  SEN-UNCRTAN  SPE-UNCRTAN  \\\n",
      "Epoch = Best  0.562  21.467            0.9          0.8          1.0   \n",
      "\n",
      "              CORR-UNCRTAN  AUC-UNCRTAN  \n",
      "Epoch = Best         0.882          1.0  \n"
     ]
    },
    {
     "data": {
      "text/plain": "<Figure size 2664x1512 with 1 Axes>",
      "image/png": "[encoded data removed]"
     },
     "metadata": {
      "needs_background": "light"
     },
     "output_type": "display_data"
    },
    {
     "data": {
      "text/plain": "<Figure size 432x288 with 1 Axes>",
      "image/png": "[encoded data removed]"
     },
     "metadata": {
      "needs_background": "light"
     },
     "output_type": "display_data"
    },
    {
     "data": {
      "text/plain": "<Figure size 2664x1512 with 1 Axes>",
      "image/png": "[encoded data removed]"
     },
     "metadata": {
      "needs_background": "light"
     },
     "output_type": "display_data"
    },
    {
     "data": {
      "text/plain": "<Figure size 432x288 with 1 Axes>",
      "image/png": "[encoded data removed]"
     },
     "metadata": {
      "needs_background": "light"
     },
     "output_type": "display_data"
    }
   ],
   "source": [
    "opt.uncertainty_thr = .2\n",
    "opt.core_th = 0.5\n",
    "predicted_involvement, ood, prediction_maps = infer_core_wise2(predictions, uncertainty, core_len, roi_coors,\n",
    "                                                               opt.uncertainty_thr, ood_scores)\n",
    "scores = {'acc_s': acc_s, 'acc_sb': acc_sb}\n",
    "scores = compute_metrics(predicted_involvement, true_involvement,\n",
    "                             current_epoch=0, verbose=True, scores=scores,\n",
    "                             threshold=opt.core_th, edl=opt.loss_name == 'edl')\n",
    "\n",
    "net_interpretation2(predicted_involvement, patient_id_bk,\n",
    "                   true_involvement, gs_bk, opt.paths.result_dir,\n",
    "                   ood=ood, current_epoch=0, set_name=state,\n",
    "                   writer=False, scores=scores, threshold=opt.core_th, plotting=True, edl=opt.loss_name == 'edl')"
   ],
   "metadata": {
    "collapsed": false,
    "pycharm": {
     "name": "#%%\n"
    }
   }
  },
  {
   "cell_type": "code",
   "execution_count": 19,
   "outputs": [],
   "source": [
    "# import matplotlib.pyplot as plt\n",
    "# import matplotlib.image as mpimg\n",
    "# from matplotlib.colors import NoNorm\n",
    "# from einops import rearrange\n",
    "#\n",
    "# needle = mpimg.imread('../needle.png')\n",
    "#\n",
    "# # needle = rearrange(needle, 'h w c -> c h w')\n",
    "# # needle = (needle - np.mean(needle, axis=(0,1)))\n",
    "# plt.imshow(needle, norm=NoNorm())\n",
    "# plt.show()\n",
    "#\n",
    "# img = x_data[0,...]\n",
    "# img = rearrange(img, 'c h w -> h w c')\n",
    "#\n",
    "# img_label = y_label[0,...]\n",
    "# img_prediction = predictions[0,...]\n",
    "#\n",
    "#\n",
    "# plt.imshow(img,cmap='gray',norm=NoNorm())\n",
    "# plt.show()"
   ],
   "metadata": {
    "collapsed": false,
    "pycharm": {
     "name": "#%%\n"
    }
   }
  },
  {
   "cell_type": "code",
   "execution_count": 12,
   "outputs": [],
   "source": [
    "# needle2 = needle[:,:,0]\n",
    "# pred_needle = np.copy(needle)\n",
    "# img = np.array(img)\n",
    "# img2 = img[::4,::4]\n",
    "# img_h = img2.shape[0]\n",
    "# img_w = img2.shape[1]\n",
    "# img_fake = np.ones_like(img2[:,:,0])\n",
    "# pred_needle[376-img_h:376, 402:402+img_w, 0] += img_fake#\n",
    "#\n",
    "#\n",
    "# plt.figure(figsize=(18.5, 10.5))\n",
    "# plt.imshow(pred_needle, norm=NoNorm())\n",
    "# plt.show()"
   ],
   "metadata": {
    "collapsed": false,
    "pycharm": {
     "name": "#%%\n"
    }
   }
  },
  {
   "cell_type": "code",
   "execution_count": 21,
   "outputs": [],
   "source": [
    "def pred_colormap(needle_img, img, pred, patient, inv, pred_inv, gs):\n",
    "    import matplotlib.pyplot as plt\n",
    "    from matplotlib.colors import NoNorm\n",
    "    from einops import rearrange\n",
    "\n",
    "    pred_needle = np.copy(needle_img)\n",
    "    # with or without backgroubd? Comment it and see\n",
    "    pred_needle[:,:,0:3] = np.zeros_like(pred_needle[:,:,0:3])\n",
    "\n",
    "    img = np.array(img)\n",
    "    img = rearrange(img, 'b c h w -> b h w c')\n",
    "    scale = 4\n",
    "    img2 = img[:,::scale,::scale,:]\n",
    "\n",
    "    no_patches = img2.shape[0]\n",
    "    img_h = img2.shape[1]\n",
    "    img_w = img2.shape[2]\n",
    "    tip_x = 376\n",
    "    tip_y = 402\n",
    "\n",
    "    img_fake = np.ones_like(img2)\n",
    "    for i in range(no_patches):\n",
    "        # if i%4==0:\n",
    "            img_pred = 1 if int((pred[i,1]<=0.5)) else 0\n",
    "            intensity = 1*((pred[i,0] if img_pred==1 else pred[i,1]) - 0.5)\n",
    "\n",
    "            x_pos = tip_x - i*int(19/scale)\n",
    "            y_pose = tip_y + i*int(25/scale)\n",
    "            pred_needle[x_pos - img_h:x_pos, y_pose:y_pose + img_w, img_pred] += intensity*img_fake[i,:,:,0] #10*img2[i,:,:,0]\n",
    "\n",
    "    fig = plt.figure(figsize=(18.5, 10.5))\n",
    "    ax = fig.add_subplot()\n",
    "    ax.text(80, 60, f'Patient:{int(patient)}  '+f'Inv:{inv}  '+f'PredInv:{pred_inv:.3}  '+f'GS:{gs}',\n",
    "        bbox={'facecolor': 'white', 'alpha': 0.5, 'pad': 10}, fontsize=30)\n",
    "    plt.imshow(pred_needle, norm=NoNorm())\n",
    "    plt.show()\n",
    "\n",
    "    return pred_needle"
   ],
   "metadata": {
    "collapsed": false,
    "pycharm": {
     "name": "#%%\n"
    }
   }
  },
  {
   "cell_type": "code",
   "execution_count": 22,
   "outputs": [
    {
     "name": "stderr",
     "output_type": "stream",
     "text": [
      "Clipping input data to the valid range for imshow with RGB data ([0..1] for floats or [0..255] for integers).\n",
      "c:\\users\\mahdi\\anaconda3\\envs\\env1\\lib\\site-packages\\ipykernel_launcher.py:36: UserWarning: Matplotlib is currently using agg, which is a non-GUI backend, so cannot show the figure.\n",
      "Clipping input data to the valid range for imshow with RGB data ([0..1] for floats or [0..255] for integers).\n",
      "Clipping input data to the valid range for imshow with RGB data ([0..1] for floats or [0..255] for integers).\n"
     ]
    },
    {
     "name": "stdout",
     "output_type": "stream",
     "text": [
      "Patient: 36 Inv: 0.0 Pred:0.93\n",
      "Patient: 36 Inv: 0.0 Pred:0.465\n",
      "Patient: 36 Inv: 0.6 Pred:0.651\n",
      "Patient: 36 Inv: 0.6 Pred:0.581\n"
     ]
    },
    {
     "name": "stderr",
     "output_type": "stream",
     "text": [
      "Clipping input data to the valid range for imshow with RGB data ([0..1] for floats or [0..255] for integers).\n"
     ]
    }
   ],
   "source": [
    "import matplotlib.image as mpimg\n",
    "needle = mpimg.imread('../needle.png')\n",
    "core_cumsum = np.cumsum(core_len)\n",
    "indx, = np.where(patient_id_bk==36)\n",
    "for j in indx:\n",
    "    print('Patient:', int(patient_id_bk[j]), 'Inv:', true_involvement[j], f'Pred:{predicted_involvement[j]:.3}')\n",
    "    start = 0 if j==0 else core_cumsum[j-1]\n",
    "    end = core_cumsum[j]\n",
    "    pred_colormap(needle, x_data[start:end,...], predictions[start:end,...],\n",
    "                  patient_id_bk[j], true_involvement[j], predicted_involvement[j], gs_bk[j])"
   ],
   "metadata": {
    "collapsed": false,
    "pycharm": {
     "name": "#%%\n"
    }
   }
  },
  {
   "cell_type": "code",
   "execution_count": null,
   "outputs": [],
   "source": [],
   "metadata": {
    "collapsed": false,
    "pycharm": {
     "name": "#%%\n"
    }
   }
  }
 ],
 "metadata": {
  "kernelspec": {
   "display_name": "Python 3",
   "language": "python",
   "name": "python3"
  },
  "language_info": {
   "codemirror_mode": {
    "name": "ipython",
    "version": 2
   },
   "file_extension": ".py",
   "mimetype": "text/x-python",
   "name": "python",
   "nbconvert_exporter": "python",
   "pygments_lexer": "ipython2",
   "version": "2.7.6"
  }
 },
 "nbformat": 4,
 "nbformat_minor": 0
}