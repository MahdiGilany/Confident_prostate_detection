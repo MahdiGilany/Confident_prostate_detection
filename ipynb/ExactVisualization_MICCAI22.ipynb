{
 "cells": [
  {
   "cell_type": "code",
   "execution_count": 1,
   "outputs": [],
   "source": [
    "import numpy as np\n",
    "import openpyxl.utils\n",
    "\n",
    "\n",
    "import torch\n",
    "import pylab as plt\n",
    "from munch import munchify\n",
    "from torch.nn import functional as F\n",
    "from torch.utils.data import TensorDataset, DataLoader\n",
    "\n",
    "from utils import *\n",
    "from tqdm import tqdm\n",
    "%matplotlib inline"
   ],
   "metadata": {
    "collapsed": false,
    "pycharm": {
     "name": "#%%\n"
    }
   }
  },
  {
   "cell_type": "code",
   "execution_count": 7,
   "outputs": [
    {
     "name": "stdout",
     "output_type": "stream",
     "text": [
      "loading data...\n",
      "loading done!\n"
     ]
    }
   ],
   "source": [
    "# datafile to load the data. This cell and the next cell are just for having some sense of how to feed data.\n",
    "# Please load your own data and make them similar to the shape of data in dataset.\n",
    "project_root = 'C:/Users/Mahdi/Desktop/Summer21/RA/Codes/Minh_Mahdi_mod/prostate_cancer_classification'\n",
    "data_root = 'data'\n",
    "test_setName= 'Exact_UVA_patches_400_100_100_maskedProstate_01-30-2022.mat'\n",
    "data_file = '/'.join([project_root, data_root, test_setName])\n",
    "print('loading data...')\n",
    "input_data = load_matlab(data_file)\n",
    "print('loading done!')\n",
    "\n",
    "num_workers = 0\n",
    "device = torch.device(f'cuda:0' if torch.cuda.is_available() else 'cpu')"
   ],
   "metadata": {
    "collapsed": false,
    "pycharm": {
     "name": "#%%\n"
    }
   }
  },
  {
   "cell_type": "code",
   "execution_count": 39,
   "outputs": [
    {
     "ename": "AttributeError",
     "evalue": "'TensorDataset' object has no attribute 'preprocess'",
     "output_type": "error",
     "traceback": [
      "\u001B[1;31m---------------------------------------------------------------------------\u001B[0m",
      "\u001B[1;31mAttributeError\u001B[0m                            Traceback (most recent call last)",
      "\u001B[1;32m<ipython-input-39-8e2d791cb6f4>\u001B[0m in \u001B[0;36m<module>\u001B[1;34m\u001B[0m\n\u001B[1;32m----> 1\u001B[1;33m input_data = dataset.preprocess(input_data, norm='mean0var1', shffl_patients=False, signal_split=False,\n\u001B[0m\u001B[0;32m      2\u001B[0m                         split_rs=26, val_size=0.25, augment=False)\n\u001B[0;32m      3\u001B[0m \u001B[1;33m\u001B[0m\u001B[0m\n",
      "\u001B[1;31mAttributeError\u001B[0m: 'TensorDataset' object has no attribute 'preprocess'"
     ]
    }
   ],
   "source": [
    "input_data = dataset.preprocess(input_data, norm='mean0var1', shffl_patients=False, signal_split=False,\n",
    "                        split_rs=26, val_size=0.25, augment=False)"
   ],
   "metadata": {
    "collapsed": false,
    "pycharm": {
     "name": "#%%\n"
    }
   }
  },
  {
   "cell_type": "code",
   "execution_count": 45,
   "outputs": [],
   "source": [
    "# This function takes in net, device, and pair of (input, label, location) and produces output\n",
    "# This is used in the next cell\n",
    "def drop_eval(net, x_raw, n_batch, T_samples):\n",
    "    pred_list, unc_list = [], []\n",
    "    for i in range(T_samples):\n",
    "        out1 = net(x_raw, n_batch)\n",
    "        pred = F.softmax(out1, dim=1)\n",
    "        pred_list.append(torch.unsqueeze(pred, dim=0))\n",
    "    pred_mean = torch.cat(pred_list, 0).mean(dim=0)\n",
    "    confidence,_ = torch.max(pred_mean, dim=1)\n",
    "    unc = 1. - confidence\n",
    "    return pred_mean, unc\n",
    "\n",
    "\n",
    "def predict(net, input_data, input_label, device, unc_method, T_samples=30, unc_thr=0.2):\n",
    "    from sklearn.metrics import confusion_matrix\n",
    "\n",
    "\n",
    "    # location is not important here, so we make it up randomly\n",
    "    input_location = torch.ones_like(input_label)\n",
    "\n",
    "    outputs = []\n",
    "    entropic_scores = []\n",
    "    uncertainty = []\n",
    "    total = correct = 0\n",
    "\n",
    "    cm = np.zeros((2,2))\n",
    "    cm_unc = np.zeros((2,2))\n",
    "\n",
    "    no_data = len(input_data)\n",
    "    batch_size = 32\n",
    "    no_batch = no_data//batch_size\n",
    "    # print('no batches and batch size:', no_batch, batch_size)\n",
    "    # built-in function of class torch.utils.Dataset which sets model in evaluation mode\n",
    "    # (here both evaluation and training are the same)\n",
    "    net.eval()\n",
    "    # apply model on test signals\n",
    "    with torch.no_grad():\n",
    "        for i in range(no_batch+1):\n",
    "            strt = i*batch_size\n",
    "            end = (i+1)*batch_size\n",
    "            x_raw, y_batch, n_batch = input_data[strt:end,...], input_label[strt:end,...], input_location[strt:end,...]\n",
    "            x_raw, y_batch, n_batch = x_raw.to(device), y_batch.to(device), n_batch.to(device)\n",
    "\n",
    "            if unc_method=='dropout':\n",
    "                # pred and uncertainty (1-confidence) of dropout\n",
    "                pred, unc = drop_eval(net, x_raw, n_batch, T_samples)\n",
    "            elif unc_method=='edl':\n",
    "                out1 = net(x_raw, n_batch)\n",
    "                pred = F.softmax(out1, dim=1)\n",
    "\n",
    "                alpha = F.relu(out1) + 1\n",
    "                unc = 2. / torch.sum(alpha, dim=1, keepdim=True).reshape(-1)\n",
    "            elif unc_method=='vanilla':\n",
    "                out1 = net(x_raw, n_batch)\n",
    "                pred = F.softmax(out1, dim=1)\n",
    "                crnt, _ = torch.max(pred, dim=1)\n",
    "                unc = 1-crnt\n",
    "\n",
    "            probabilities = pred  # torch.nn.Softmax(dim=1)(pred)\n",
    "            entropies = -(probabilities * torch.log(probabilities)).sum(dim=1)\n",
    "            entropic_scores.append((-entropies).cpu().numpy())\n",
    "\n",
    "            uncertainty.append(unc.cpu().numpy())\n",
    "\n",
    "            outputs.append(pred.cpu().numpy())\n",
    "            total += y_batch.size(0)\n",
    "            correct += (pred.argmax(dim=1) == torch.argmax(y_batch, dim=1)).sum().item()\n",
    "\n",
    "            cm += confusion_matrix(y_batch.argmax(dim=1).cpu(), pred.argmax(dim=1).cpu(), labels=[0,1])\n",
    "            ind_unc = unc<=unc_thr\n",
    "            cm_unc += confusion_matrix((y_batch[ind_unc, ...]).argmax(dim=1).cpu(),\n",
    "                                       (pred[ind_unc, ...]).argmax(dim=1).cpu(), labels=[0,1])\n",
    "\n",
    "\n",
    "    tn, fp, fn, tp = cm.ravel()\n",
    "    tn_unc, fp_unc, fn_unc, tp_unc = cm_unc.ravel()\n",
    "    acc_sb = (tp/(tp+fn) + tn/(tn+fp))/2.0\n",
    "    acc_sb_unc = (tp_unc/(tp_unc+fn_unc) + tn_unc/(tn_unc+fp_unc))/2.0\n",
    "\n",
    "    outputs = np.concatenate(outputs)\n",
    "    uncertainty = np.concatenate(uncertainty)\n",
    "    entropic_scores = np.concatenate(entropic_scores)\n",
    "    return outputs, uncertainty, entropic_scores, correct / total, acc_sb, acc_sb_unc\n",
    "\n",
    "def infer_core_wise2(predictions, uncertainty, core_len, roi_coors, unc_thr, ood_scores=None):\n",
    "    \"\"\"\n",
    "    Infer core-wise predictions based on signal-wise predictions.\n",
    "    Input must be 1-D array\n",
    "    :param predictions: signal-wise predictions\n",
    "    :param core_len: length of each core\n",
    "    :param roi_coors: pixel-wise coordinates of ROI area\n",
    "    :param ood_scores:\n",
    "    :return:\n",
    "    \"\"\"\n",
    "    counter = 0\n",
    "    no_uncCores = 0\n",
    "    core_feat1, core_res1, core_l1, core_l2, core_l3, core_ood = [], [], [], [], [], []\n",
    "    prediction_maps = []\n",
    "\n",
    "    # find a label for each core\n",
    "    for i in range(len(core_len)):\n",
    "        temp = predictions[counter:(counter + core_len[i])]\n",
    "        un = uncertainty[counter:(counter + core_len[i])]\n",
    "        temp2 = temp[un <= unc_thr, ...]\n",
    "        if len(temp2) <= np.round(0.6*core_len[i]):\n",
    "            no_uncCores += 1\n",
    "            core_l3.append(np.nan)\n",
    "        else:\n",
    "            core_l3.append(np.greater(temp2[:, 1], temp2[:, 0]).sum() / len(temp2))\n",
    "\n",
    "        core_l1.append(np.greater(temp[:, 1], temp[:, 0]).sum() / core_len[i])\n",
    "        core_l2.append(temp[:, 1].sum() / core_len[i])\n",
    "        core_ood.append(ood_scores)\n",
    "        counter += core_len[i]\n",
    "\n",
    "    if no_uncCores!=0:\n",
    "        print(f'no uncertain cores {no_uncCores}')\n",
    "    return (core_l1, core_l2, core_l3), core_ood, prediction_maps"
   ],
   "metadata": {
    "collapsed": false,
    "pycharm": {
     "name": "#%%\n"
    }
   }
  },
  {
   "cell_type": "code",
   "execution_count": 46,
   "outputs": [],
   "source": [
    "def net_interpretation2(predicted_label, patient_id, involvement, gleason_score, result_dir=None,\n",
    "                       ood=None, cct=(0.2, 0.6, 1), cbt=(0, 1, 0.6), cf=(1, 0.2, 0.6),\n",
    "                       current_epoch=None, set_name='Test', writer=None, scores: dict = None, threshold=0.5,\n",
    "                       plotting=True,  edl=False):\n",
    "    import seaborn as sns\n",
    "    predicted_label_nounc = predicted_label[0]\n",
    "    # in case edl is not used\n",
    "    predicted_label_unc = predicted_label[1]\n",
    "    pred_inv_wNan = predicted_label[1]\n",
    "\n",
    "    if edl:\n",
    "        pred_inv_wNan = predicted_label[2]\n",
    "        predicted_label_unc = np.array([pred_inv_wNan[i] for i in range(len(pred_inv_wNan))\n",
    "                                              if not np.isnan(pred_inv_wNan[i])])\n",
    "\n",
    "    # predicted_label = np.array([item > 0.5 for item in predicted_label])\n",
    "    true_label = np.array([item > 0 for item in involvement])\n",
    "\n",
    "    predicted_label_th = np.array(predicted_label_nounc)\n",
    "    predicted_label_th[predicted_label_th > threshold] = 1\n",
    "    predicted_label_th[predicted_label_th <= threshold] = 0\n",
    "\n",
    "    andlabels = np.logical_and(predicted_label_th, true_label)\n",
    "\n",
    "    patients = np.unique(patient_id)\n",
    "    # Invs = np.ones_like(involvement)\n",
    "    Invs = involvement * 100\n",
    "    gs = np.array(gleason_score)\n",
    "    indx = []\n",
    "    maxc = 0\n",
    "    for ip in patients:\n",
    "        temp = np.where(patient_id == ip)[0]\n",
    "        indx.append(temp)\n",
    "        maxc = max(maxc, len(temp))\n",
    "\n",
    "    inv = np.zeros((len(patients), maxc), dtype=float)\n",
    "    #    cmaps=[]\n",
    "\n",
    "    label = []\n",
    "    cmap = [cf if True else [0, 0, 1] for i in range(len(true_label))]\n",
    "\n",
    "    for i in range(len(true_label)):\n",
    "        if andlabels[i] == 1:\n",
    "            cmap[i] = cct\n",
    "        elif (predicted_label_th[i] + true_label[i]) == 0:\n",
    "            cmap[i] = cbt\n",
    "        else:\n",
    "            cmap[i] = cf\n",
    "    cmap = np.array(cmap)\n",
    "    cmaps = np.zeros((len(patients), maxc, 3), dtype=float)\n",
    "    for ip in range(len(patients)):\n",
    "        indxip = indx[ip]\n",
    "        inv[ip, :len(indxip)] = Invs[indxip]\n",
    "        cmaps[ip, :len(indxip)] = cmap[indxip]\n",
    "        label.append(gs[indxip])\n",
    "        for i in range(len(label[ip])):\n",
    "            if label[ip][i] == 'Benign':\n",
    "                inv[ip, i] = 50\n",
    "                label[ip][i] = '-'\n",
    "            if label[ip][i] == 'FB':\n",
    "                inv[ip, i] = 50\n",
    "                label[ip][i] = '-'\n",
    "\n",
    "    fig1, ax1 = plt.subplots()\n",
    "    #todo: might overkill memory\n",
    "    fig1.set_size_inches(18.5*2, 10.5*2)\n",
    "    barbase = np.cumsum(np.concatenate((np.zeros((inv.shape[0], 1)), inv[:, 0:-1]), axis=1), 1)\n",
    "\n",
    "    for i in range(maxc):\n",
    "        ax1.bar(np.arange(len(patients)), inv[:, i].tolist(), 0.7, bottom=barbase[:, i], color=cmaps[:, i])\n",
    "        ax1.EdgeColor = 'k'\n",
    "    plt.xticks(np.arange(len(patients)), patients.astype(int))\n",
    "    plt.xlabel('Patient No.')\n",
    "\n",
    "    width = np.array([p.get_width() for p in ax1.patches][0]).squeeze()\n",
    "    joblblpos = inv / 2 + barbase\n",
    "    for k1 in range(inv.shape[0]):\n",
    "        for k2 in range(inv.shape[1]):\n",
    "            plt.text(k1-width/2., joblblpos[k1, k2], label[k1][k2] if inv[k1, k2] != 0 else '')\n",
    "    # plt.savefig(f'{result_dir}/{set_name}_acc_per_core{current_epoch_str}.png')\n",
    "    if plotting:\n",
    "        plt.show()\n",
    "\n",
    "    ood_sum = np.array([-_ood.sum() for _ood in ood])\n",
    "    ood_normalized = ood_sum / ood_sum.sum()\n",
    "\n",
    "    fig2 = plt.figure(2)\n",
    "    ax2 = sns.scatterplot(x=involvement, y=predicted_label_nounc, size=ood_normalized, legend=False)\n",
    "    diag = np.arange(0, 1, .05)\n",
    "    sns.lineplot(x=diag, y=diag, color='r', ax=ax2)\n",
    "    ax2.axvspan(-.1, 0.1, -.1, .5, alpha=.2, facecolor='lightgreen')\n",
    "    ax2.axvspan(-.1, 0.1, .51, 1., alpha=.2, facecolor='red')\n",
    "    ax2.axvspan(0.11, 1.1, -.1, .5, alpha=.2, facecolor='grey')\n",
    "    ax2.axvspan(0.11, 1.1, .51, 1., alpha=.2, facecolor='moccasin')\n",
    "    ax2.axvline(x=.105, linewidth=.6, linestyle='--', color='black')\n",
    "    ax2.axhline(y=.505, linewidth=.6, linestyle='--', color='black')\n",
    "    ax2.axis('square')\n",
    "    ax2.set(ylim=[-.1, 1.1], xlim=[-.1, 1.1])\n",
    "    if scores is not None:\n",
    "        ax1.set_title(f'ACC: {scores[\"acc\"]:.2f} | ACC_B: {scores[\"acc_b\"]:.2f} '\n",
    "                      f'AUC: {scores[\"auc\"]:.2f} | SEN: {scores[\"sen\"]:.2f} | SPE: {scores[\"spe\"]:.2f}')\n",
    "        ax2.set(title=f'Correlation Coefficient = {scores[\"corr\"]:.3f} | MAE = {scores[\"mae\"]:.3f}',\n",
    "                xlabel='True Involvement', ylabel='Predicted Involvement'\n",
    "                )\n",
    "    # plt.savefig('point_cloud3.png')\n",
    "    if plotting:\n",
    "        plt.show()\n",
    "\n",
    "#############################################################################################\n",
    "    # new plot based on new way of finding core predictions\n",
    "    predicted_label_th_unc = np.copy(np.array(pred_inv_wNan))\n",
    "    predicted_label_th_unc[predicted_label_th_unc > threshold] = 1\n",
    "    predicted_label_th_unc[predicted_label_th_unc <= threshold] = 0\n",
    "\n",
    "    andlabels_unc = np.logical_and(predicted_label_th_unc, true_label)\n",
    "\n",
    "    label = []\n",
    "    cmap = [cf if True else [0, 0, 1] for i in range(len(true_label))]\n",
    "\n",
    "    for i in range(len(true_label)):\n",
    "        if andlabels_unc[i] == 1:\n",
    "            cmap[i] = cct\n",
    "        elif (predicted_label_th_unc[i] + true_label[i]) == 0:\n",
    "            cmap[i] = cbt\n",
    "        else:\n",
    "            cmap[i] = cf\n",
    "        if np.isnan(pred_inv_wNan[i]):\n",
    "            cmap[i] = (.9,.9,.9)\n",
    "\n",
    "    cmap = np.array(cmap)\n",
    "    cmaps = np.zeros((len(patients), maxc, 3), dtype=float)\n",
    "    for ip in range(len(patients)):\n",
    "        indxip = indx[ip]\n",
    "        inv[ip, :len(indxip)] = Invs[indxip]\n",
    "        cmaps[ip, :len(indxip)] = cmap[indxip]\n",
    "        label.append(gs[indxip])\n",
    "        for i in range(len(label[ip])):\n",
    "            if label[ip][i] == 'Benign':\n",
    "                inv[ip, i] = 50\n",
    "                label[ip][i] = '-'\n",
    "            if label[ip][i] == 'FB':\n",
    "                inv[ip, i] = 50\n",
    "                label[ip][i] = '-'\n",
    "\n",
    "    fig3, ax3 = plt.subplots()\n",
    "    fig3.set_size_inches(18.5*2, 10.5*2)\n",
    "\n",
    "    for i in range(maxc):\n",
    "        ax3.bar(np.arange(len(patients)), inv[:, i].tolist(), 0.7, bottom=barbase[:, i], color=cmaps[:, i])\n",
    "        ax3.EdgeColor = 'k'\n",
    "    plt.xticks(np.arange(len(patients)), patients.astype(int))\n",
    "    plt.xlabel('Patient No.')\n",
    "\n",
    "    width = np.array([p.get_width() for p in ax3.patches][0]).squeeze()\n",
    "    joblblpos = inv / 2 + barbase\n",
    "    for k1 in range(inv.shape[0]):\n",
    "        for k2 in range(inv.shape[1]):\n",
    "            plt.text(k1-width/2., joblblpos[k1, k2], label[k1][k2] if inv[k1, k2] != 0 else '')\n",
    "    if plotting:\n",
    "        plt.show()\n",
    "\n",
    "    fig4 = plt.figure(4)\n",
    "    inv_unc = np.array([involvement[i] for i in range(len(pred_inv_wNan))\n",
    "              if not np.isnan(pred_inv_wNan[i])])\n",
    "    ood_unc = np.array([ood_normalized[i] for i in range(len(pred_inv_wNan))\n",
    "              if not np.isnan(pred_inv_wNan[i])])\n",
    "    if len(inv_unc)==0:\n",
    "        inv_unc = [1.]\n",
    "        predicted_label_unc = [0.]\n",
    "        ood_unc = ood_normalized[0]\n",
    "    ax4 = sns.scatterplot(x=inv_unc, y=predicted_label_unc, size=ood_unc, legend=False)\n",
    "    diag = np.arange(0, 1, .05)\n",
    "    sns.lineplot(x=diag, y=diag, color='r', ax=ax4)\n",
    "    ax4.axvspan(-.1, 0.1, -.1, .5, alpha=.2, facecolor='lightgreen')\n",
    "    ax4.axvspan(-.1, 0.1, .51, 1., alpha=.2, facecolor='red')\n",
    "    ax4.axvspan(0.11, 1.1, -.1, .5, alpha=.2, facecolor='grey')\n",
    "    ax4.axvspan(0.11, 1.1, .51, 1., alpha=.2, facecolor='moccasin')\n",
    "    ax4.axvline(x=.105, linewidth=.6, linestyle='--', color='black')\n",
    "    ax4.axhline(y=.505, linewidth=.6, linestyle='--', color='black')\n",
    "    ax4.axis('square')\n",
    "    ax4.set(ylim=[-.1, 1.1], xlim=[-.1, 1.1])\n",
    "\n",
    "    if plotting:\n",
    "        plt.show()\n",
    "\n",
    "    if writer:\n",
    "        # img = plot_to_image(fig4)\n",
    "        writer.add_figure(f'{set_name}/core_acc', fig1, global_step=current_epoch)\n",
    "        writer.add_figure(f'{set_name}/core_inv_threshold', fig2, global_step=current_epoch)\n",
    "        writer.add_figure(f'{set_name}/core_acc_mean', fig3, global_step=current_epoch)\n",
    "        writer.add_figure(f'{set_name}/core_inv_mean', fig4, global_step=current_epoch)\n",
    "\n",
    "    plt.close('all')"
   ],
   "metadata": {
    "collapsed": false,
    "pycharm": {
     "name": "#%%\n"
    }
   }
  },
  {
   "cell_type": "code",
   "execution_count": 157,
   "outputs": [],
   "source": [
    "def test_uncertainty(srs_list, seed_list, exp_name, exp_suffix, unc_thrList):\n",
    "    all_accb=[]\n",
    "    all_accb_unc=[]\n",
    "    all_accsb_unc=[]\n",
    "    for srs in srs_list:\n",
    "        for seed in seed_list:\n",
    "            accb=[]\n",
    "            accb_unc=[]\n",
    "            accsb_unc=[]\n",
    "\n",
    "            project_root = 'C:/Users/Mahdi/Desktop/Summer21/RA/Codes/Minh_Mahdi_mod/prostate_cancer_classification'\n",
    "            args = {}\n",
    "            args['config'] = '../yamls/coteaching_local_inference_Exact2D.yml'\n",
    "            args['exp_suffix'] = exp_suffix[0] + f'{srs}' + exp_suffix[1] + f'{seed}' + exp_suffix[2]\n",
    "\n",
    "            with open(args['config']) as f:\n",
    "                opt = yaml.load(f, Loader)\n",
    "            opt.update(args)\n",
    "            opt = munchify(opt)\n",
    "            opt.project_root = project_root\n",
    "            opt = setup_directories(opt)\n",
    "            opt.core_th = 0.5\n",
    "\n",
    "            if exp_name == 'edl':\n",
    "                opt.loss_name = 'edl'\n",
    "                opt.dropout.rate = 'none'\n",
    "            elif exp_name == 'dropout':\n",
    "                opt.loss_name = 'ce'\n",
    "                opt.dropout.rate = 0.1\n",
    "            elif exp_name == 'vanilla':\n",
    "                opt.loss_name = 'ce'\n",
    "                opt.dropout.rate = 'none'\n",
    "\n",
    "            net = construct_network(device, opt)\n",
    "            net = net[0]()\n",
    "            suffix = '_1'\n",
    "\n",
    "            try:\n",
    "                net.load_state_dict(torch.load(f'{opt.project_root}/{opt.paths.checkpoint_dir}/{opt.test.which_iter}_coreN{suffix}.pth', map_location='cuda:0'))\n",
    "            except:\n",
    "                continue\n",
    "            print(\"srs and seed:\",srs, seed)\n",
    "\n",
    "            # arr = [1., 0.5, 0.3, 0.2, 0.15, 0.125, 0.1, 0.075, 0.05,0.025, 0.0125, 0.0075]\n",
    "            # arr = [1., 0.5, 0.3, 0.2, 0.15, 0.1, 0.075, 0.05,0.025]\n",
    "            thr_list = unc_thrList\n",
    "            for thr in thr_list:\n",
    "                predictions, uncertainty, ood_scores, acc_s, acc_sb, acc_sb_unc = predict(net, x_data, y_label, device, exp_name, unc_thr=thr)\n",
    "                predicted_involvement, ood, prediction_maps = infer_core_wise2(predictions, uncertainty, core_len, roi_coors, thr, ood_scores)\n",
    "\n",
    "                scores = {'acc_s': acc_s, 'acc_sb': acc_sb,'acc_sb-unc':acc_sb_unc}\n",
    "                scores = compute_metrics(predicted_involvement, true_involvement, current_epoch=0, verbose=False, scores=scores,\n",
    "                                         threshold=opt.core_th, edl=True)\n",
    "                # net_interpretation2(predicted_involvement, patient_id_bk, true_involvement, gs_bk, opt.paths.result_dir, ood=ood,\n",
    "                #                     current_epoch=0, set_name=state, writer=False, scores=scores, threshold=opt.core_th, plotting=True, edl=True)\n",
    "\n",
    "                accb.append(scores['acc_b'])\n",
    "                accb_unc.append(scores['acc_b-uncrtan'])\n",
    "                accsb_unc.append(scores['acc_sb-unc'])\n",
    "\n",
    "            print(accb_unc)\n",
    "            all_accb.append(accb)\n",
    "            all_accb_unc.append(accb_unc)\n",
    "            all_accsb_unc.append(accsb_unc)\n",
    "    return all_accb, all_accb_unc, all_accsb_unc"
   ],
   "metadata": {
    "collapsed": false,
    "pycharm": {
     "name": "#%%\n"
    }
   }
  },
  {
   "cell_type": "code",
   "execution_count": 189,
   "outputs": [],
   "source": [
    "def test_uncertainty_ensemble(srs_list, seed_list, exp_name, exp_suffix, unc_thrList):\n",
    "    all_accb=[]\n",
    "    all_accb_unc=[]\n",
    "    all_accsb_unc=[]\n",
    "    for srs in srs_list:\n",
    "        preds_seed = []\n",
    "        for seed in seed_list:\n",
    "            accb=[]\n",
    "            accb_unc=[]\n",
    "            accsb_unc=[]\n",
    "\n",
    "            preds_thr = []\n",
    "\n",
    "            project_root = 'C:/Users/Mahdi/Desktop/Summer21/RA/Codes/Minh_Mahdi_mod/prostate_cancer_classification'\n",
    "            args = {}\n",
    "            args['config'] = '../yamls/coteaching_local_inference_Exact2D.yml'\n",
    "            args['exp_suffix'] = exp_suffix[0] + f'{srs}' + exp_suffix[1] + f'{seed}' + exp_suffix[2]\n",
    "\n",
    "            with open(args['config']) as f:\n",
    "                opt = yaml.load(f, Loader)\n",
    "            opt.update(args)\n",
    "            opt = munchify(opt)\n",
    "            opt.project_root = project_root\n",
    "            opt = setup_directories(opt)\n",
    "            opt.core_th = 0.5\n",
    "\n",
    "\n",
    "            if exp_name == 'ensm':\n",
    "                opt.loss_name = 'ce'\n",
    "                opt.dropout.rate = 'none'\n",
    "\n",
    "\n",
    "            net = construct_network(device, opt)\n",
    "            net = net[0]()\n",
    "            suffix = '_1'\n",
    "\n",
    "            try:\n",
    "                net.load_state_dict(torch.load(f'{opt.project_root}/{opt.paths.checkpoint_dir}/{opt.test.which_iter}_coreN{suffix}.pth', map_location='cuda:0'))\n",
    "            except:\n",
    "                continue\n",
    "            print(\"srs and seed:\",srs, seed)\n",
    "\n",
    "            thr_list = unc_thrList\n",
    "            for thr in thr_list:\n",
    "                predictions, uncertainty, ood_scores, acc_s, acc_sb, acc_sb_unc = predict(net, x_data, y_label, device, 'vanilla', unc_thr=thr)\n",
    "                preds_thr.append(predictions)\n",
    "            temp_thr = np.stack(preds_thr, axis=0)\n",
    "            preds_seed.append(temp_thr)\n",
    "\n",
    "        seed_predictions = np.stack(preds_seed, axis=0) ## [seed, thr, n, 2 classes]\n",
    "        srs_predictions = np.mean(seed_predictions, axis=0) ## [thr, n, 2]\n",
    "        uncertainty = 1. - np.max(srs_predictions, axis=-1)\n",
    "\n",
    "        for ii, thr in enumerate(thr_list):\n",
    "            predicted_involvement, ood, prediction_maps = infer_core_wise2(srs_predictions[ii,...], uncertainty[ii,...], core_len, roi_coors, thr, ood_scores)\n",
    "\n",
    "            ind_unc = uncertainty[ii,...]<=thr\n",
    "            acc_sb_unc = ((srs_predictions[ii,...])[ind_unc,...].argmax(axis=1) == ((y_label.cpu().numpy())[ind_unc,...]).argmax(axis=1))\n",
    "            acc_sb_unc = acc_sb_unc.sum()/len((srs_predictions[ii,...])[ind_unc,...])\n",
    "            scores = {'acc_sb-unc':acc_sb_unc}\n",
    "\n",
    "            scores = compute_metrics(predicted_involvement, true_involvement, current_epoch=0, verbose=False, scores=scores,\n",
    "                                     threshold=opt.core_th, edl=True)\n",
    "            # net_interpretation2(predicted_involvement, patient_id_bk, true_involvement, gs_bk, opt.paths.result_dir, ood=ood,\n",
    "            #                     current_epoch=0, set_name=state, writer=False, scores=scores, threshold=opt.core_th, plotting=True, edl=True)\n",
    "\n",
    "            accb.append(scores['acc_b'])\n",
    "            accb_unc.append(scores['acc_b-uncrtan'])\n",
    "            accsb_unc.append(scores['acc_sb-unc'])\n",
    "\n",
    "        print(accb_unc)\n",
    "        all_accb.append(accb)\n",
    "        all_accb_unc.append(accb_unc)\n",
    "        all_accsb_unc.append(accsb_unc)\n",
    "    return all_accb, all_accb_unc, all_accsb_unc"
   ],
   "metadata": {
    "collapsed": false,
    "pycharm": {
     "name": "#%%\n"
    }
   }
  },
  {
   "cell_type": "code",
   "execution_count": 217,
   "outputs": [
    {
     "name": "stdout",
     "output_type": "stream",
     "text": [
      "cancer labels shape (1051, 2)\n",
      "data shape (2808, 1, 256, 256)\n"
     ]
    }
   ],
   "source": [
    "from utils.dataset import create_datasets_test_Exact\n",
    "\n",
    "min_inv=.4\n",
    "\n",
    "# which dataset to use for testset. Either train, val, or test\n",
    "state = 'test'\n",
    "dataset, core_len, true_involvement, patient_id_bk, gs_bk, roi_coors, true_labels, *ids = create_datasets_test_Exact(\n",
    "    '/'.join([project_root, data_root, test_setName]), dataset_name='Exact_patched',\n",
    "    min_inv=min_inv, input_data=input_data, state=state, norm='mean0var1')\n",
    "\n",
    "# these are input data and label corresponding to them\n",
    "# label is just for plotts in the next cell, you can feed a random matrix of nx2 instead\n",
    "x_data = dataset.tensors[0]\n",
    "y_label = dataset.tensors[1]"
   ],
   "metadata": {
    "collapsed": false,
    "pycharm": {
     "name": "#%%\n"
    }
   }
  },
  {
   "cell_type": "code",
   "execution_count": 218,
   "outputs": [
    {
     "name": "stdout",
     "output_type": "stream",
     "text": [
      "srs and seed: 26 0\n",
      "no uncertain cores 4\n",
      "no uncertain cores 21\n",
      "no uncertain cores 43\n",
      "no uncertain cores 49\n",
      "no uncertain cores 62\n",
      "exception occured!!!!!!!!!!!!!!!!!!!!!!!!!!!!!!!!!!!!!!\n"
     ]
    },
    {
     "name": "stderr",
     "output_type": "stream",
     "text": [
      "c:\\users\\mahdi\\anaconda3\\envs\\env1\\lib\\site-packages\\numpy\\lib\\function_base.py:2559: RuntimeWarning: invalid value encountered in true_divide\n",
      "  c /= stddev[:, None]\n",
      "c:\\users\\mahdi\\anaconda3\\envs\\env1\\lib\\site-packages\\numpy\\lib\\function_base.py:2560: RuntimeWarning: invalid value encountered in true_divide\n",
      "  c /= stddev[None, :]\n"
     ]
    },
    {
     "name": "stdout",
     "output_type": "stream",
     "text": [
      "no uncertain cores 74\n",
      "exception occured!!!!!!!!!!!!!!!!!!!!!!!!!!!!!!!!!!!!!!\n"
     ]
    },
    {
     "name": "stderr",
     "output_type": "stream",
     "text": [
      "c:\\users\\mahdi\\anaconda3\\envs\\env1\\lib\\site-packages\\numpy\\lib\\function_base.py:2559: RuntimeWarning: invalid value encountered in true_divide\n",
      "  c /= stddev[:, None]\n",
      "c:\\users\\mahdi\\anaconda3\\envs\\env1\\lib\\site-packages\\numpy\\lib\\function_base.py:2560: RuntimeWarning: invalid value encountered in true_divide\n",
      "  c /= stddev[None, :]\n"
     ]
    },
    {
     "name": "stdout",
     "output_type": "stream",
     "text": [
      "no uncertain cores 76\n",
      "exception occured!!!!!!!!!!!!!!!!!!!!!!!!!!!!!!!!!!!!!!\n"
     ]
    },
    {
     "name": "stderr",
     "output_type": "stream",
     "text": [
      "c:\\users\\mahdi\\anaconda3\\envs\\env1\\lib\\site-packages\\numpy\\lib\\function_base.py:2559: RuntimeWarning: invalid value encountered in true_divide\n",
      "  c /= stddev[:, None]\n",
      "c:\\users\\mahdi\\anaconda3\\envs\\env1\\lib\\site-packages\\numpy\\lib\\function_base.py:2560: RuntimeWarning: invalid value encountered in true_divide\n",
      "  c /= stddev[None, :]\n",
      "c:\\users\\mahdi\\anaconda3\\envs\\env1\\lib\\site-packages\\ipykernel_launcher.py:79: RuntimeWarning: invalid value encountered in double_scalars\n",
      "c:\\users\\mahdi\\anaconda3\\envs\\env1\\lib\\site-packages\\numpy\\core\\fromnumeric.py:3373: RuntimeWarning: Mean of empty slice.\n",
      "  out=out, **kwargs)\n",
      "c:\\users\\mahdi\\anaconda3\\envs\\env1\\lib\\site-packages\\numpy\\core\\_methods.py:170: RuntimeWarning: invalid value encountered in double_scalars\n",
      "  ret = ret.dtype.type(ret / rcount)\n",
      "c:\\users\\mahdi\\anaconda3\\envs\\env1\\lib\\site-packages\\numpy\\lib\\function_base.py:380: RuntimeWarning: Mean of empty slice.\n",
      "  avg = a.mean(axis)\n",
      "c:\\users\\mahdi\\anaconda3\\envs\\env1\\lib\\site-packages\\numpy\\core\\_methods.py:163: RuntimeWarning: invalid value encountered in true_divide\n",
      "  ret, rcount, out=ret, casting='unsafe', subok=False)\n",
      "c:\\users\\mahdi\\anaconda3\\envs\\env1\\lib\\site-packages\\numpy\\lib\\function_base.py:2551: RuntimeWarning: Degrees of freedom <= 0 for slice\n",
      "  c = cov(x, y, rowvar)\n",
      "c:\\users\\mahdi\\anaconda3\\envs\\env1\\lib\\site-packages\\numpy\\lib\\function_base.py:2480: RuntimeWarning: divide by zero encountered in true_divide\n",
      "  c *= np.true_divide(1, fact)\n",
      "c:\\users\\mahdi\\anaconda3\\envs\\env1\\lib\\site-packages\\numpy\\lib\\function_base.py:2480: RuntimeWarning: invalid value encountered in multiply\n",
      "  c *= np.true_divide(1, fact)\n"
     ]
    },
    {
     "name": "stdout",
     "output_type": "stream",
     "text": [
      "no uncertain cores 80\n",
      "exception occured!!!!!!!!!!!!!!!!!!!!!!!!!!!!!!!!!!!!!!\n"
     ]
    },
    {
     "name": "stderr",
     "output_type": "stream",
     "text": [
      "c:\\users\\mahdi\\anaconda3\\envs\\env1\\lib\\site-packages\\ipykernel_launcher.py:79: RuntimeWarning: invalid value encountered in double_scalars\n",
      "c:\\users\\mahdi\\anaconda3\\envs\\env1\\lib\\site-packages\\numpy\\core\\fromnumeric.py:3373: RuntimeWarning: Mean of empty slice.\n",
      "  out=out, **kwargs)\n",
      "c:\\users\\mahdi\\anaconda3\\envs\\env1\\lib\\site-packages\\numpy\\core\\_methods.py:170: RuntimeWarning: invalid value encountered in double_scalars\n",
      "  ret = ret.dtype.type(ret / rcount)\n",
      "c:\\users\\mahdi\\anaconda3\\envs\\env1\\lib\\site-packages\\numpy\\lib\\function_base.py:380: RuntimeWarning: Mean of empty slice.\n",
      "  avg = a.mean(axis)\n",
      "c:\\users\\mahdi\\anaconda3\\envs\\env1\\lib\\site-packages\\numpy\\core\\_methods.py:163: RuntimeWarning: invalid value encountered in true_divide\n",
      "  ret, rcount, out=ret, casting='unsafe', subok=False)\n",
      "c:\\users\\mahdi\\anaconda3\\envs\\env1\\lib\\site-packages\\numpy\\lib\\function_base.py:2551: RuntimeWarning: Degrees of freedom <= 0 for slice\n",
      "  c = cov(x, y, rowvar)\n",
      "c:\\users\\mahdi\\anaconda3\\envs\\env1\\lib\\site-packages\\numpy\\lib\\function_base.py:2480: RuntimeWarning: divide by zero encountered in true_divide\n",
      "  c *= np.true_divide(1, fact)\n",
      "c:\\users\\mahdi\\anaconda3\\envs\\env1\\lib\\site-packages\\numpy\\lib\\function_base.py:2480: RuntimeWarning: invalid value encountered in multiply\n",
      "  c *= np.true_divide(1, fact)\n"
     ]
    },
    {
     "name": "stdout",
     "output_type": "stream",
     "text": [
      "no uncertain cores 80\n",
      "exception occured!!!!!!!!!!!!!!!!!!!!!!!!!!!!!!!!!!!!!!\n"
     ]
    },
    {
     "name": "stderr",
     "output_type": "stream",
     "text": [
      "c:\\users\\mahdi\\anaconda3\\envs\\env1\\lib\\site-packages\\ipykernel_launcher.py:79: RuntimeWarning: invalid value encountered in double_scalars\n",
      "c:\\users\\mahdi\\anaconda3\\envs\\env1\\lib\\site-packages\\numpy\\core\\fromnumeric.py:3373: RuntimeWarning: Mean of empty slice.\n",
      "  out=out, **kwargs)\n",
      "c:\\users\\mahdi\\anaconda3\\envs\\env1\\lib\\site-packages\\numpy\\core\\_methods.py:170: RuntimeWarning: invalid value encountered in double_scalars\n",
      "  ret = ret.dtype.type(ret / rcount)\n",
      "c:\\users\\mahdi\\anaconda3\\envs\\env1\\lib\\site-packages\\numpy\\lib\\function_base.py:380: RuntimeWarning: Mean of empty slice.\n",
      "  avg = a.mean(axis)\n",
      "c:\\users\\mahdi\\anaconda3\\envs\\env1\\lib\\site-packages\\numpy\\core\\_methods.py:163: RuntimeWarning: invalid value encountered in true_divide\n",
      "  ret, rcount, out=ret, casting='unsafe', subok=False)\n",
      "c:\\users\\mahdi\\anaconda3\\envs\\env1\\lib\\site-packages\\numpy\\lib\\function_base.py:2551: RuntimeWarning: Degrees of freedom <= 0 for slice\n",
      "  c = cov(x, y, rowvar)\n",
      "c:\\users\\mahdi\\anaconda3\\envs\\env1\\lib\\site-packages\\numpy\\lib\\function_base.py:2480: RuntimeWarning: divide by zero encountered in true_divide\n",
      "  c *= np.true_divide(1, fact)\n",
      "c:\\users\\mahdi\\anaconda3\\envs\\env1\\lib\\site-packages\\numpy\\lib\\function_base.py:2480: RuntimeWarning: invalid value encountered in multiply\n",
      "  c *= np.true_divide(1, fact)\n"
     ]
    },
    {
     "name": "stdout",
     "output_type": "stream",
     "text": [
      "no uncertain cores 80\n",
      "exception occured!!!!!!!!!!!!!!!!!!!!!!!!!!!!!!!!!!!!!!\n",
      "[0.7919684002633312, 0.7758393680052666, 0.7718268525311812, 0.8559210526315789, 0.967741935483871, 0.8154761904761905, 1.0, 1.0, 1.0, nan, nan, nan]\n",
      "srs and seed: 26 10\n",
      "no uncertain cores 2\n",
      "no uncertain cores 21\n",
      "no uncertain cores 38\n",
      "no uncertain cores 52\n",
      "no uncertain cores 64\n",
      "no uncertain cores 74\n",
      "exception occured!!!!!!!!!!!!!!!!!!!!!!!!!!!!!!!!!!!!!!\n"
     ]
    },
    {
     "name": "stderr",
     "output_type": "stream",
     "text": [
      "c:\\users\\mahdi\\anaconda3\\envs\\env1\\lib\\site-packages\\numpy\\lib\\function_base.py:2559: RuntimeWarning: invalid value encountered in true_divide\n",
      "  c /= stddev[:, None]\n",
      "c:\\users\\mahdi\\anaconda3\\envs\\env1\\lib\\site-packages\\numpy\\lib\\function_base.py:2560: RuntimeWarning: invalid value encountered in true_divide\n",
      "  c /= stddev[None, :]\n"
     ]
    },
    {
     "name": "stdout",
     "output_type": "stream",
     "text": [
      "no uncertain cores 79\n",
      "exception occured!!!!!!!!!!!!!!!!!!!!!!!!!!!!!!!!!!!!!!\n"
     ]
    },
    {
     "name": "stderr",
     "output_type": "stream",
     "text": [
      "c:\\users\\mahdi\\anaconda3\\envs\\env1\\lib\\site-packages\\numpy\\lib\\function_base.py:2551: RuntimeWarning: Degrees of freedom <= 0 for slice\n",
      "  c = cov(x, y, rowvar)\n",
      "c:\\users\\mahdi\\anaconda3\\envs\\env1\\lib\\site-packages\\numpy\\lib\\function_base.py:2480: RuntimeWarning: divide by zero encountered in true_divide\n",
      "  c *= np.true_divide(1, fact)\n",
      "c:\\users\\mahdi\\anaconda3\\envs\\env1\\lib\\site-packages\\numpy\\lib\\function_base.py:2480: RuntimeWarning: invalid value encountered in multiply\n",
      "  c *= np.true_divide(1, fact)\n",
      "c:\\users\\mahdi\\anaconda3\\envs\\env1\\lib\\site-packages\\ipykernel_launcher.py:79: RuntimeWarning: invalid value encountered in double_scalars\n",
      "c:\\users\\mahdi\\anaconda3\\envs\\env1\\lib\\site-packages\\numpy\\core\\fromnumeric.py:3373: RuntimeWarning: Mean of empty slice.\n",
      "  out=out, **kwargs)\n",
      "c:\\users\\mahdi\\anaconda3\\envs\\env1\\lib\\site-packages\\numpy\\core\\_methods.py:170: RuntimeWarning: invalid value encountered in double_scalars\n",
      "  ret = ret.dtype.type(ret / rcount)\n",
      "c:\\users\\mahdi\\anaconda3\\envs\\env1\\lib\\site-packages\\numpy\\lib\\function_base.py:380: RuntimeWarning: Mean of empty slice.\n",
      "  avg = a.mean(axis)\n",
      "c:\\users\\mahdi\\anaconda3\\envs\\env1\\lib\\site-packages\\numpy\\core\\_methods.py:163: RuntimeWarning: invalid value encountered in true_divide\n",
      "  ret, rcount, out=ret, casting='unsafe', subok=False)\n",
      "c:\\users\\mahdi\\anaconda3\\envs\\env1\\lib\\site-packages\\numpy\\lib\\function_base.py:2551: RuntimeWarning: Degrees of freedom <= 0 for slice\n",
      "  c = cov(x, y, rowvar)\n",
      "c:\\users\\mahdi\\anaconda3\\envs\\env1\\lib\\site-packages\\numpy\\lib\\function_base.py:2480: RuntimeWarning: divide by zero encountered in true_divide\n",
      "  c *= np.true_divide(1, fact)\n",
      "c:\\users\\mahdi\\anaconda3\\envs\\env1\\lib\\site-packages\\numpy\\lib\\function_base.py:2480: RuntimeWarning: invalid value encountered in multiply\n",
      "  c *= np.true_divide(1, fact)\n"
     ]
    },
    {
     "name": "stdout",
     "output_type": "stream",
     "text": [
      "no uncertain cores 80\n",
      "exception occured!!!!!!!!!!!!!!!!!!!!!!!!!!!!!!!!!!!!!!\n"
     ]
    },
    {
     "name": "stderr",
     "output_type": "stream",
     "text": [
      "c:\\users\\mahdi\\anaconda3\\envs\\env1\\lib\\site-packages\\ipykernel_launcher.py:79: RuntimeWarning: invalid value encountered in double_scalars\n",
      "c:\\users\\mahdi\\anaconda3\\envs\\env1\\lib\\site-packages\\numpy\\core\\fromnumeric.py:3373: RuntimeWarning: Mean of empty slice.\n",
      "  out=out, **kwargs)\n",
      "c:\\users\\mahdi\\anaconda3\\envs\\env1\\lib\\site-packages\\numpy\\core\\_methods.py:170: RuntimeWarning: invalid value encountered in double_scalars\n",
      "  ret = ret.dtype.type(ret / rcount)\n",
      "c:\\users\\mahdi\\anaconda3\\envs\\env1\\lib\\site-packages\\numpy\\lib\\function_base.py:380: RuntimeWarning: Mean of empty slice.\n",
      "  avg = a.mean(axis)\n",
      "c:\\users\\mahdi\\anaconda3\\envs\\env1\\lib\\site-packages\\numpy\\core\\_methods.py:163: RuntimeWarning: invalid value encountered in true_divide\n",
      "  ret, rcount, out=ret, casting='unsafe', subok=False)\n",
      "c:\\users\\mahdi\\anaconda3\\envs\\env1\\lib\\site-packages\\numpy\\lib\\function_base.py:2551: RuntimeWarning: Degrees of freedom <= 0 for slice\n",
      "  c = cov(x, y, rowvar)\n",
      "c:\\users\\mahdi\\anaconda3\\envs\\env1\\lib\\site-packages\\numpy\\lib\\function_base.py:2480: RuntimeWarning: divide by zero encountered in true_divide\n",
      "  c *= np.true_divide(1, fact)\n",
      "c:\\users\\mahdi\\anaconda3\\envs\\env1\\lib\\site-packages\\numpy\\lib\\function_base.py:2480: RuntimeWarning: invalid value encountered in multiply\n",
      "  c *= np.true_divide(1, fact)\n"
     ]
    },
    {
     "name": "stdout",
     "output_type": "stream",
     "text": [
      "no uncertain cores 80\n",
      "exception occured!!!!!!!!!!!!!!!!!!!!!!!!!!!!!!!!!!!!!!\n"
     ]
    },
    {
     "name": "stderr",
     "output_type": "stream",
     "text": [
      "c:\\users\\mahdi\\anaconda3\\envs\\env1\\lib\\site-packages\\ipykernel_launcher.py:79: RuntimeWarning: invalid value encountered in double_scalars\n",
      "c:\\users\\mahdi\\anaconda3\\envs\\env1\\lib\\site-packages\\numpy\\core\\fromnumeric.py:3373: RuntimeWarning: Mean of empty slice.\n",
      "  out=out, **kwargs)\n",
      "c:\\users\\mahdi\\anaconda3\\envs\\env1\\lib\\site-packages\\numpy\\core\\_methods.py:170: RuntimeWarning: invalid value encountered in double_scalars\n",
      "  ret = ret.dtype.type(ret / rcount)\n",
      "c:\\users\\mahdi\\anaconda3\\envs\\env1\\lib\\site-packages\\numpy\\lib\\function_base.py:380: RuntimeWarning: Mean of empty slice.\n",
      "  avg = a.mean(axis)\n",
      "c:\\users\\mahdi\\anaconda3\\envs\\env1\\lib\\site-packages\\numpy\\core\\_methods.py:163: RuntimeWarning: invalid value encountered in true_divide\n",
      "  ret, rcount, out=ret, casting='unsafe', subok=False)\n",
      "c:\\users\\mahdi\\anaconda3\\envs\\env1\\lib\\site-packages\\numpy\\lib\\function_base.py:2551: RuntimeWarning: Degrees of freedom <= 0 for slice\n",
      "  c = cov(x, y, rowvar)\n",
      "c:\\users\\mahdi\\anaconda3\\envs\\env1\\lib\\site-packages\\numpy\\lib\\function_base.py:2480: RuntimeWarning: divide by zero encountered in true_divide\n",
      "  c *= np.true_divide(1, fact)\n",
      "c:\\users\\mahdi\\anaconda3\\envs\\env1\\lib\\site-packages\\numpy\\lib\\function_base.py:2480: RuntimeWarning: invalid value encountered in multiply\n",
      "  c *= np.true_divide(1, fact)\n"
     ]
    },
    {
     "name": "stdout",
     "output_type": "stream",
     "text": [
      "no uncertain cores 80\n",
      "exception occured!!!!!!!!!!!!!!!!!!!!!!!!!!!!!!!!!!!!!!\n",
      "[0.7919684002633312, 0.7919684002633312, 0.8142153413089375, 0.8434210526315788, 0.8737373737373737, 1.0, 1.0, 1.0, 1.0, nan, nan, nan]\n",
      "srs and seed: 30 0\n",
      "no uncertain cores 1\n",
      "no uncertain cores 12\n",
      "no uncertain cores 30\n",
      "no uncertain cores 38\n",
      "no uncertain cores 50\n",
      "no uncertain cores 61\n"
     ]
    },
    {
     "name": "stderr",
     "output_type": "stream",
     "text": [
      "c:\\users\\mahdi\\anaconda3\\envs\\env1\\lib\\site-packages\\sklearn\\metrics\\_classification.py:1854: UserWarning: y_pred contains classes not in y_true\n",
      "  warnings.warn('y_pred contains classes not in y_true')\n",
      "C:\\Users\\Mahdi\\Desktop\\Summer21\\RA\\Codes\\Minh_Mahdi_mod\\prostate_cancer_classification\\utils\\metrics.py:16: RuntimeWarning: invalid value encountered in longlong_scalars\n",
      "  return tp / (tp + fn)  # sensitivity\n",
      "c:\\users\\mahdi\\anaconda3\\envs\\env1\\lib\\site-packages\\numpy\\lib\\function_base.py:2559: RuntimeWarning: invalid value encountered in true_divide\n",
      "  c /= stddev[:, None]\n",
      "c:\\users\\mahdi\\anaconda3\\envs\\env1\\lib\\site-packages\\numpy\\lib\\function_base.py:2560: RuntimeWarning: invalid value encountered in true_divide\n",
      "  c /= stddev[None, :]\n"
     ]
    },
    {
     "name": "stdout",
     "output_type": "stream",
     "text": [
      "no uncertain cores 75\n",
      "exception occured!!!!!!!!!!!!!!!!!!!!!!!!!!!!!!!!!!!!!!\n"
     ]
    },
    {
     "name": "stderr",
     "output_type": "stream",
     "text": [
      "c:\\users\\mahdi\\anaconda3\\envs\\env1\\lib\\site-packages\\numpy\\lib\\function_base.py:2559: RuntimeWarning: invalid value encountered in true_divide\n",
      "  c /= stddev[:, None]\n",
      "c:\\users\\mahdi\\anaconda3\\envs\\env1\\lib\\site-packages\\numpy\\lib\\function_base.py:2560: RuntimeWarning: invalid value encountered in true_divide\n",
      "  c /= stddev[None, :]\n",
      "c:\\users\\mahdi\\anaconda3\\envs\\env1\\lib\\site-packages\\ipykernel_launcher.py:79: RuntimeWarning: invalid value encountered in double_scalars\n",
      "c:\\users\\mahdi\\anaconda3\\envs\\env1\\lib\\site-packages\\numpy\\core\\fromnumeric.py:3373: RuntimeWarning: Mean of empty slice.\n",
      "  out=out, **kwargs)\n",
      "c:\\users\\mahdi\\anaconda3\\envs\\env1\\lib\\site-packages\\numpy\\core\\_methods.py:170: RuntimeWarning: invalid value encountered in double_scalars\n",
      "  ret = ret.dtype.type(ret / rcount)\n",
      "c:\\users\\mahdi\\anaconda3\\envs\\env1\\lib\\site-packages\\numpy\\lib\\function_base.py:380: RuntimeWarning: Mean of empty slice.\n",
      "  avg = a.mean(axis)\n",
      "c:\\users\\mahdi\\anaconda3\\envs\\env1\\lib\\site-packages\\numpy\\core\\_methods.py:163: RuntimeWarning: invalid value encountered in true_divide\n",
      "  ret, rcount, out=ret, casting='unsafe', subok=False)\n",
      "c:\\users\\mahdi\\anaconda3\\envs\\env1\\lib\\site-packages\\numpy\\lib\\function_base.py:2551: RuntimeWarning: Degrees of freedom <= 0 for slice\n",
      "  c = cov(x, y, rowvar)\n",
      "c:\\users\\mahdi\\anaconda3\\envs\\env1\\lib\\site-packages\\numpy\\lib\\function_base.py:2480: RuntimeWarning: divide by zero encountered in true_divide\n",
      "  c *= np.true_divide(1, fact)\n",
      "c:\\users\\mahdi\\anaconda3\\envs\\env1\\lib\\site-packages\\numpy\\lib\\function_base.py:2480: RuntimeWarning: invalid value encountered in multiply\n",
      "  c *= np.true_divide(1, fact)\n"
     ]
    },
    {
     "name": "stdout",
     "output_type": "stream",
     "text": [
      "no uncertain cores 80\n",
      "exception occured!!!!!!!!!!!!!!!!!!!!!!!!!!!!!!!!!!!!!!\n"
     ]
    },
    {
     "name": "stderr",
     "output_type": "stream",
     "text": [
      "c:\\users\\mahdi\\anaconda3\\envs\\env1\\lib\\site-packages\\ipykernel_launcher.py:79: RuntimeWarning: invalid value encountered in double_scalars\n",
      "c:\\users\\mahdi\\anaconda3\\envs\\env1\\lib\\site-packages\\numpy\\core\\fromnumeric.py:3373: RuntimeWarning: Mean of empty slice.\n",
      "  out=out, **kwargs)\n",
      "c:\\users\\mahdi\\anaconda3\\envs\\env1\\lib\\site-packages\\numpy\\core\\_methods.py:170: RuntimeWarning: invalid value encountered in double_scalars\n",
      "  ret = ret.dtype.type(ret / rcount)\n",
      "c:\\users\\mahdi\\anaconda3\\envs\\env1\\lib\\site-packages\\numpy\\lib\\function_base.py:380: RuntimeWarning: Mean of empty slice.\n",
      "  avg = a.mean(axis)\n",
      "c:\\users\\mahdi\\anaconda3\\envs\\env1\\lib\\site-packages\\numpy\\core\\_methods.py:163: RuntimeWarning: invalid value encountered in true_divide\n",
      "  ret, rcount, out=ret, casting='unsafe', subok=False)\n",
      "c:\\users\\mahdi\\anaconda3\\envs\\env1\\lib\\site-packages\\numpy\\lib\\function_base.py:2551: RuntimeWarning: Degrees of freedom <= 0 for slice\n",
      "  c = cov(x, y, rowvar)\n",
      "c:\\users\\mahdi\\anaconda3\\envs\\env1\\lib\\site-packages\\numpy\\lib\\function_base.py:2480: RuntimeWarning: divide by zero encountered in true_divide\n",
      "  c *= np.true_divide(1, fact)\n",
      "c:\\users\\mahdi\\anaconda3\\envs\\env1\\lib\\site-packages\\numpy\\lib\\function_base.py:2480: RuntimeWarning: invalid value encountered in multiply\n",
      "  c *= np.true_divide(1, fact)\n"
     ]
    },
    {
     "name": "stdout",
     "output_type": "stream",
     "text": [
      "no uncertain cores 80\n",
      "exception occured!!!!!!!!!!!!!!!!!!!!!!!!!!!!!!!!!!!!!!\n"
     ]
    },
    {
     "name": "stderr",
     "output_type": "stream",
     "text": [
      "c:\\users\\mahdi\\anaconda3\\envs\\env1\\lib\\site-packages\\ipykernel_launcher.py:79: RuntimeWarning: invalid value encountered in double_scalars\n",
      "c:\\users\\mahdi\\anaconda3\\envs\\env1\\lib\\site-packages\\numpy\\core\\fromnumeric.py:3373: RuntimeWarning: Mean of empty slice.\n",
      "  out=out, **kwargs)\n",
      "c:\\users\\mahdi\\anaconda3\\envs\\env1\\lib\\site-packages\\numpy\\core\\_methods.py:170: RuntimeWarning: invalid value encountered in double_scalars\n",
      "  ret = ret.dtype.type(ret / rcount)\n",
      "c:\\users\\mahdi\\anaconda3\\envs\\env1\\lib\\site-packages\\numpy\\lib\\function_base.py:380: RuntimeWarning: Mean of empty slice.\n",
      "  avg = a.mean(axis)\n",
      "c:\\users\\mahdi\\anaconda3\\envs\\env1\\lib\\site-packages\\numpy\\core\\_methods.py:163: RuntimeWarning: invalid value encountered in true_divide\n",
      "  ret, rcount, out=ret, casting='unsafe', subok=False)\n",
      "c:\\users\\mahdi\\anaconda3\\envs\\env1\\lib\\site-packages\\numpy\\lib\\function_base.py:2551: RuntimeWarning: Degrees of freedom <= 0 for slice\n",
      "  c = cov(x, y, rowvar)\n",
      "c:\\users\\mahdi\\anaconda3\\envs\\env1\\lib\\site-packages\\numpy\\lib\\function_base.py:2480: RuntimeWarning: divide by zero encountered in true_divide\n",
      "  c *= np.true_divide(1, fact)\n",
      "c:\\users\\mahdi\\anaconda3\\envs\\env1\\lib\\site-packages\\numpy\\lib\\function_base.py:2480: RuntimeWarning: invalid value encountered in multiply\n",
      "  c *= np.true_divide(1, fact)\n"
     ]
    },
    {
     "name": "stdout",
     "output_type": "stream",
     "text": [
      "no uncertain cores 80\n",
      "exception occured!!!!!!!!!!!!!!!!!!!!!!!!!!!!!!!!!!!!!!\n",
      "[0.7613561553653719, 0.7613561553653719, 0.7554421768707482, 0.7973484848484849, 0.896049896049896, 0.884375, 0.8557692307692308, 0.9473684210526315, 1.0, nan, nan, nan]\n",
      "srs and seed: 30 10\n",
      "no uncertain cores 7\n",
      "no uncertain cores 37\n",
      "no uncertain cores 65\n",
      "no uncertain cores 72\n",
      "no uncertain cores 78\n",
      "exception occured!!!!!!!!!!!!!!!!!!!!!!!!!!!!!!!!!!!!!!\n"
     ]
    },
    {
     "name": "stderr",
     "output_type": "stream",
     "text": [
      "c:\\users\\mahdi\\anaconda3\\envs\\env1\\lib\\site-packages\\numpy\\lib\\function_base.py:2559: RuntimeWarning: invalid value encountered in true_divide\n",
      "  c /= stddev[:, None]\n"
     ]
    },
    {
     "name": "stdout",
     "output_type": "stream",
     "text": [
      "no uncertain cores 80\n",
      "exception occured!!!!!!!!!!!!!!!!!!!!!!!!!!!!!!!!!!!!!!\n"
     ]
    },
    {
     "name": "stderr",
     "output_type": "stream",
     "text": [
      "c:\\users\\mahdi\\anaconda3\\envs\\env1\\lib\\site-packages\\numpy\\core\\fromnumeric.py:3373: RuntimeWarning: Mean of empty slice.\n",
      "  out=out, **kwargs)\n",
      "c:\\users\\mahdi\\anaconda3\\envs\\env1\\lib\\site-packages\\numpy\\core\\_methods.py:170: RuntimeWarning: invalid value encountered in double_scalars\n",
      "  ret = ret.dtype.type(ret / rcount)\n",
      "c:\\users\\mahdi\\anaconda3\\envs\\env1\\lib\\site-packages\\numpy\\lib\\function_base.py:380: RuntimeWarning: Mean of empty slice.\n",
      "  avg = a.mean(axis)\n",
      "c:\\users\\mahdi\\anaconda3\\envs\\env1\\lib\\site-packages\\numpy\\core\\_methods.py:163: RuntimeWarning: invalid value encountered in true_divide\n",
      "  ret, rcount, out=ret, casting='unsafe', subok=False)\n",
      "c:\\users\\mahdi\\anaconda3\\envs\\env1\\lib\\site-packages\\numpy\\lib\\function_base.py:2551: RuntimeWarning: Degrees of freedom <= 0 for slice\n",
      "  c = cov(x, y, rowvar)\n",
      "c:\\users\\mahdi\\anaconda3\\envs\\env1\\lib\\site-packages\\numpy\\lib\\function_base.py:2480: RuntimeWarning: divide by zero encountered in true_divide\n",
      "  c *= np.true_divide(1, fact)\n",
      "c:\\users\\mahdi\\anaconda3\\envs\\env1\\lib\\site-packages\\numpy\\lib\\function_base.py:2480: RuntimeWarning: invalid value encountered in multiply\n",
      "  c *= np.true_divide(1, fact)\n",
      "c:\\users\\mahdi\\anaconda3\\envs\\env1\\lib\\site-packages\\ipykernel_launcher.py:79: RuntimeWarning: invalid value encountered in double_scalars\n",
      "c:\\users\\mahdi\\anaconda3\\envs\\env1\\lib\\site-packages\\numpy\\core\\fromnumeric.py:3373: RuntimeWarning: Mean of empty slice.\n",
      "  out=out, **kwargs)\n",
      "c:\\users\\mahdi\\anaconda3\\envs\\env1\\lib\\site-packages\\numpy\\core\\_methods.py:170: RuntimeWarning: invalid value encountered in double_scalars\n",
      "  ret = ret.dtype.type(ret / rcount)\n",
      "c:\\users\\mahdi\\anaconda3\\envs\\env1\\lib\\site-packages\\numpy\\lib\\function_base.py:380: RuntimeWarning: Mean of empty slice.\n",
      "  avg = a.mean(axis)\n",
      "c:\\users\\mahdi\\anaconda3\\envs\\env1\\lib\\site-packages\\numpy\\core\\_methods.py:163: RuntimeWarning: invalid value encountered in true_divide\n",
      "  ret, rcount, out=ret, casting='unsafe', subok=False)\n",
      "c:\\users\\mahdi\\anaconda3\\envs\\env1\\lib\\site-packages\\numpy\\lib\\function_base.py:2551: RuntimeWarning: Degrees of freedom <= 0 for slice\n",
      "  c = cov(x, y, rowvar)\n",
      "c:\\users\\mahdi\\anaconda3\\envs\\env1\\lib\\site-packages\\numpy\\lib\\function_base.py:2480: RuntimeWarning: divide by zero encountered in true_divide\n",
      "  c *= np.true_divide(1, fact)\n",
      "c:\\users\\mahdi\\anaconda3\\envs\\env1\\lib\\site-packages\\numpy\\lib\\function_base.py:2480: RuntimeWarning: invalid value encountered in multiply\n",
      "  c *= np.true_divide(1, fact)\n"
     ]
    },
    {
     "name": "stdout",
     "output_type": "stream",
     "text": [
      "no uncertain cores 80\n",
      "exception occured!!!!!!!!!!!!!!!!!!!!!!!!!!!!!!!!!!!!!!\n"
     ]
    },
    {
     "name": "stderr",
     "output_type": "stream",
     "text": [
      "c:\\users\\mahdi\\anaconda3\\envs\\env1\\lib\\site-packages\\ipykernel_launcher.py:79: RuntimeWarning: invalid value encountered in double_scalars\n",
      "c:\\users\\mahdi\\anaconda3\\envs\\env1\\lib\\site-packages\\numpy\\core\\fromnumeric.py:3373: RuntimeWarning: Mean of empty slice.\n",
      "  out=out, **kwargs)\n",
      "c:\\users\\mahdi\\anaconda3\\envs\\env1\\lib\\site-packages\\numpy\\core\\_methods.py:170: RuntimeWarning: invalid value encountered in double_scalars\n",
      "  ret = ret.dtype.type(ret / rcount)\n",
      "c:\\users\\mahdi\\anaconda3\\envs\\env1\\lib\\site-packages\\numpy\\lib\\function_base.py:380: RuntimeWarning: Mean of empty slice.\n",
      "  avg = a.mean(axis)\n",
      "c:\\users\\mahdi\\anaconda3\\envs\\env1\\lib\\site-packages\\numpy\\core\\_methods.py:163: RuntimeWarning: invalid value encountered in true_divide\n",
      "  ret, rcount, out=ret, casting='unsafe', subok=False)\n",
      "c:\\users\\mahdi\\anaconda3\\envs\\env1\\lib\\site-packages\\numpy\\lib\\function_base.py:2551: RuntimeWarning: Degrees of freedom <= 0 for slice\n",
      "  c = cov(x, y, rowvar)\n",
      "c:\\users\\mahdi\\anaconda3\\envs\\env1\\lib\\site-packages\\numpy\\lib\\function_base.py:2480: RuntimeWarning: divide by zero encountered in true_divide\n",
      "  c *= np.true_divide(1, fact)\n",
      "c:\\users\\mahdi\\anaconda3\\envs\\env1\\lib\\site-packages\\numpy\\lib\\function_base.py:2480: RuntimeWarning: invalid value encountered in multiply\n",
      "  c *= np.true_divide(1, fact)\n"
     ]
    },
    {
     "name": "stdout",
     "output_type": "stream",
     "text": [
      "no uncertain cores 80\n",
      "exception occured!!!!!!!!!!!!!!!!!!!!!!!!!!!!!!!!!!!!!!\n"
     ]
    },
    {
     "name": "stderr",
     "output_type": "stream",
     "text": [
      "c:\\users\\mahdi\\anaconda3\\envs\\env1\\lib\\site-packages\\ipykernel_launcher.py:79: RuntimeWarning: invalid value encountered in double_scalars\n",
      "c:\\users\\mahdi\\anaconda3\\envs\\env1\\lib\\site-packages\\numpy\\core\\fromnumeric.py:3373: RuntimeWarning: Mean of empty slice.\n",
      "  out=out, **kwargs)\n",
      "c:\\users\\mahdi\\anaconda3\\envs\\env1\\lib\\site-packages\\numpy\\core\\_methods.py:170: RuntimeWarning: invalid value encountered in double_scalars\n",
      "  ret = ret.dtype.type(ret / rcount)\n",
      "c:\\users\\mahdi\\anaconda3\\envs\\env1\\lib\\site-packages\\numpy\\lib\\function_base.py:380: RuntimeWarning: Mean of empty slice.\n",
      "  avg = a.mean(axis)\n",
      "c:\\users\\mahdi\\anaconda3\\envs\\env1\\lib\\site-packages\\numpy\\core\\_methods.py:163: RuntimeWarning: invalid value encountered in true_divide\n",
      "  ret, rcount, out=ret, casting='unsafe', subok=False)\n",
      "c:\\users\\mahdi\\anaconda3\\envs\\env1\\lib\\site-packages\\numpy\\lib\\function_base.py:2551: RuntimeWarning: Degrees of freedom <= 0 for slice\n",
      "  c = cov(x, y, rowvar)\n",
      "c:\\users\\mahdi\\anaconda3\\envs\\env1\\lib\\site-packages\\numpy\\lib\\function_base.py:2480: RuntimeWarning: divide by zero encountered in true_divide\n",
      "  c *= np.true_divide(1, fact)\n",
      "c:\\users\\mahdi\\anaconda3\\envs\\env1\\lib\\site-packages\\numpy\\lib\\function_base.py:2480: RuntimeWarning: invalid value encountered in multiply\n",
      "  c *= np.true_divide(1, fact)\n"
     ]
    },
    {
     "name": "stdout",
     "output_type": "stream",
     "text": [
      "no uncertain cores 80\n",
      "exception occured!!!!!!!!!!!!!!!!!!!!!!!!!!!!!!!!!!!!!!\n"
     ]
    },
    {
     "name": "stderr",
     "output_type": "stream",
     "text": [
      "c:\\users\\mahdi\\anaconda3\\envs\\env1\\lib\\site-packages\\ipykernel_launcher.py:79: RuntimeWarning: invalid value encountered in double_scalars\n",
      "c:\\users\\mahdi\\anaconda3\\envs\\env1\\lib\\site-packages\\numpy\\core\\fromnumeric.py:3373: RuntimeWarning: Mean of empty slice.\n",
      "  out=out, **kwargs)\n",
      "c:\\users\\mahdi\\anaconda3\\envs\\env1\\lib\\site-packages\\numpy\\core\\_methods.py:170: RuntimeWarning: invalid value encountered in double_scalars\n",
      "  ret = ret.dtype.type(ret / rcount)\n",
      "c:\\users\\mahdi\\anaconda3\\envs\\env1\\lib\\site-packages\\numpy\\lib\\function_base.py:380: RuntimeWarning: Mean of empty slice.\n",
      "  avg = a.mean(axis)\n",
      "c:\\users\\mahdi\\anaconda3\\envs\\env1\\lib\\site-packages\\numpy\\core\\_methods.py:163: RuntimeWarning: invalid value encountered in true_divide\n",
      "  ret, rcount, out=ret, casting='unsafe', subok=False)\n",
      "c:\\users\\mahdi\\anaconda3\\envs\\env1\\lib\\site-packages\\numpy\\lib\\function_base.py:2551: RuntimeWarning: Degrees of freedom <= 0 for slice\n",
      "  c = cov(x, y, rowvar)\n",
      "c:\\users\\mahdi\\anaconda3\\envs\\env1\\lib\\site-packages\\numpy\\lib\\function_base.py:2480: RuntimeWarning: divide by zero encountered in true_divide\n",
      "  c *= np.true_divide(1, fact)\n",
      "c:\\users\\mahdi\\anaconda3\\envs\\env1\\lib\\site-packages\\numpy\\lib\\function_base.py:2480: RuntimeWarning: invalid value encountered in multiply\n",
      "  c *= np.true_divide(1, fact)\n"
     ]
    },
    {
     "name": "stdout",
     "output_type": "stream",
     "text": [
      "no uncertain cores 80\n",
      "exception occured!!!!!!!!!!!!!!!!!!!!!!!!!!!!!!!!!!!!!!\n",
      "[0.7962475312705728, 0.7962475312705728, 0.8281746031746031, 0.9285714285714286, 1.0, 1.0, 1.0, nan, nan, nan, nan, nan]\n",
      "srs and seed: 57 0\n",
      "no uncertain cores 6\n",
      "no uncertain cores 21\n",
      "no uncertain cores 34\n",
      "no uncertain cores 46\n",
      "no uncertain cores 62\n",
      "exception occured!!!!!!!!!!!!!!!!!!!!!!!!!!!!!!!!!!!!!!\n"
     ]
    },
    {
     "name": "stderr",
     "output_type": "stream",
     "text": [
      "c:\\users\\mahdi\\anaconda3\\envs\\env1\\lib\\site-packages\\numpy\\lib\\function_base.py:2559: RuntimeWarning: invalid value encountered in true_divide\n",
      "  c /= stddev[:, None]\n",
      "c:\\users\\mahdi\\anaconda3\\envs\\env1\\lib\\site-packages\\numpy\\lib\\function_base.py:2560: RuntimeWarning: invalid value encountered in true_divide\n",
      "  c /= stddev[None, :]\n"
     ]
    },
    {
     "name": "stdout",
     "output_type": "stream",
     "text": [
      "no uncertain cores 76\n",
      "exception occured!!!!!!!!!!!!!!!!!!!!!!!!!!!!!!!!!!!!!!\n"
     ]
    },
    {
     "name": "stderr",
     "output_type": "stream",
     "text": [
      "c:\\users\\mahdi\\anaconda3\\envs\\env1\\lib\\site-packages\\numpy\\lib\\function_base.py:2559: RuntimeWarning: invalid value encountered in true_divide\n",
      "  c /= stddev[:, None]\n",
      "c:\\users\\mahdi\\anaconda3\\envs\\env1\\lib\\site-packages\\ipykernel_launcher.py:79: RuntimeWarning: invalid value encountered in double_scalars\n",
      "c:\\users\\mahdi\\anaconda3\\envs\\env1\\lib\\site-packages\\numpy\\core\\fromnumeric.py:3373: RuntimeWarning: Mean of empty slice.\n",
      "  out=out, **kwargs)\n",
      "c:\\users\\mahdi\\anaconda3\\envs\\env1\\lib\\site-packages\\numpy\\core\\_methods.py:170: RuntimeWarning: invalid value encountered in double_scalars\n",
      "  ret = ret.dtype.type(ret / rcount)\n",
      "c:\\users\\mahdi\\anaconda3\\envs\\env1\\lib\\site-packages\\numpy\\lib\\function_base.py:380: RuntimeWarning: Mean of empty slice.\n",
      "  avg = a.mean(axis)\n",
      "c:\\users\\mahdi\\anaconda3\\envs\\env1\\lib\\site-packages\\numpy\\core\\_methods.py:163: RuntimeWarning: invalid value encountered in true_divide\n",
      "  ret, rcount, out=ret, casting='unsafe', subok=False)\n",
      "c:\\users\\mahdi\\anaconda3\\envs\\env1\\lib\\site-packages\\numpy\\lib\\function_base.py:2551: RuntimeWarning: Degrees of freedom <= 0 for slice\n",
      "  c = cov(x, y, rowvar)\n",
      "c:\\users\\mahdi\\anaconda3\\envs\\env1\\lib\\site-packages\\numpy\\lib\\function_base.py:2480: RuntimeWarning: divide by zero encountered in true_divide\n",
      "  c *= np.true_divide(1, fact)\n",
      "c:\\users\\mahdi\\anaconda3\\envs\\env1\\lib\\site-packages\\numpy\\lib\\function_base.py:2480: RuntimeWarning: invalid value encountered in multiply\n",
      "  c *= np.true_divide(1, fact)\n"
     ]
    },
    {
     "name": "stdout",
     "output_type": "stream",
     "text": [
      "no uncertain cores 80\n",
      "exception occured!!!!!!!!!!!!!!!!!!!!!!!!!!!!!!!!!!!!!!\n"
     ]
    },
    {
     "name": "stderr",
     "output_type": "stream",
     "text": [
      "c:\\users\\mahdi\\anaconda3\\envs\\env1\\lib\\site-packages\\ipykernel_launcher.py:79: RuntimeWarning: invalid value encountered in double_scalars\n",
      "c:\\users\\mahdi\\anaconda3\\envs\\env1\\lib\\site-packages\\numpy\\core\\fromnumeric.py:3373: RuntimeWarning: Mean of empty slice.\n",
      "  out=out, **kwargs)\n",
      "c:\\users\\mahdi\\anaconda3\\envs\\env1\\lib\\site-packages\\numpy\\core\\_methods.py:170: RuntimeWarning: invalid value encountered in double_scalars\n",
      "  ret = ret.dtype.type(ret / rcount)\n",
      "c:\\users\\mahdi\\anaconda3\\envs\\env1\\lib\\site-packages\\numpy\\lib\\function_base.py:380: RuntimeWarning: Mean of empty slice.\n",
      "  avg = a.mean(axis)\n",
      "c:\\users\\mahdi\\anaconda3\\envs\\env1\\lib\\site-packages\\numpy\\core\\_methods.py:163: RuntimeWarning: invalid value encountered in true_divide\n",
      "  ret, rcount, out=ret, casting='unsafe', subok=False)\n",
      "c:\\users\\mahdi\\anaconda3\\envs\\env1\\lib\\site-packages\\numpy\\lib\\function_base.py:2551: RuntimeWarning: Degrees of freedom <= 0 for slice\n",
      "  c = cov(x, y, rowvar)\n",
      "c:\\users\\mahdi\\anaconda3\\envs\\env1\\lib\\site-packages\\numpy\\lib\\function_base.py:2480: RuntimeWarning: divide by zero encountered in true_divide\n",
      "  c *= np.true_divide(1, fact)\n",
      "c:\\users\\mahdi\\anaconda3\\envs\\env1\\lib\\site-packages\\numpy\\lib\\function_base.py:2480: RuntimeWarning: invalid value encountered in multiply\n",
      "  c *= np.true_divide(1, fact)\n"
     ]
    },
    {
     "name": "stdout",
     "output_type": "stream",
     "text": [
      "no uncertain cores 80\n",
      "exception occured!!!!!!!!!!!!!!!!!!!!!!!!!!!!!!!!!!!!!!\n"
     ]
    },
    {
     "name": "stderr",
     "output_type": "stream",
     "text": [
      "c:\\users\\mahdi\\anaconda3\\envs\\env1\\lib\\site-packages\\ipykernel_launcher.py:79: RuntimeWarning: invalid value encountered in double_scalars\n",
      "c:\\users\\mahdi\\anaconda3\\envs\\env1\\lib\\site-packages\\numpy\\core\\fromnumeric.py:3373: RuntimeWarning: Mean of empty slice.\n",
      "  out=out, **kwargs)\n",
      "c:\\users\\mahdi\\anaconda3\\envs\\env1\\lib\\site-packages\\numpy\\core\\_methods.py:170: RuntimeWarning: invalid value encountered in double_scalars\n",
      "  ret = ret.dtype.type(ret / rcount)\n",
      "c:\\users\\mahdi\\anaconda3\\envs\\env1\\lib\\site-packages\\numpy\\lib\\function_base.py:380: RuntimeWarning: Mean of empty slice.\n",
      "  avg = a.mean(axis)\n",
      "c:\\users\\mahdi\\anaconda3\\envs\\env1\\lib\\site-packages\\numpy\\core\\_methods.py:163: RuntimeWarning: invalid value encountered in true_divide\n",
      "  ret, rcount, out=ret, casting='unsafe', subok=False)\n",
      "c:\\users\\mahdi\\anaconda3\\envs\\env1\\lib\\site-packages\\numpy\\lib\\function_base.py:2551: RuntimeWarning: Degrees of freedom <= 0 for slice\n",
      "  c = cov(x, y, rowvar)\n",
      "c:\\users\\mahdi\\anaconda3\\envs\\env1\\lib\\site-packages\\numpy\\lib\\function_base.py:2480: RuntimeWarning: divide by zero encountered in true_divide\n",
      "  c *= np.true_divide(1, fact)\n",
      "c:\\users\\mahdi\\anaconda3\\envs\\env1\\lib\\site-packages\\numpy\\lib\\function_base.py:2480: RuntimeWarning: invalid value encountered in multiply\n",
      "  c *= np.true_divide(1, fact)\n"
     ]
    },
    {
     "name": "stdout",
     "output_type": "stream",
     "text": [
      "no uncertain cores 80\n",
      "exception occured!!!!!!!!!!!!!!!!!!!!!!!!!!!!!!!!!!!!!!\n",
      "[0.7876892692560895, 0.7876892692560895, 0.771560236998025, 0.7942528735632184, 0.7907894736842105, 0.8198198198198199, 1.0, 1.0, 1.0, nan, nan, nan]\n",
      "srs and seed: 57 10\n",
      "no uncertain cores 12\n",
      "no uncertain cores 43\n",
      "no uncertain cores 62\n",
      "no uncertain cores 72\n",
      "no uncertain cores 77\n",
      "exception occured!!!!!!!!!!!!!!!!!!!!!!!!!!!!!!!!!!!!!!\n"
     ]
    },
    {
     "name": "stderr",
     "output_type": "stream",
     "text": [
      "c:\\users\\mahdi\\anaconda3\\envs\\env1\\lib\\site-packages\\numpy\\lib\\function_base.py:2559: RuntimeWarning: invalid value encountered in true_divide\n",
      "  c /= stddev[:, None]\n"
     ]
    },
    {
     "name": "stdout",
     "output_type": "stream",
     "text": [
      "no uncertain cores 79\n",
      "exception occured!!!!!!!!!!!!!!!!!!!!!!!!!!!!!!!!!!!!!!\n"
     ]
    },
    {
     "name": "stderr",
     "output_type": "stream",
     "text": [
      "c:\\users\\mahdi\\anaconda3\\envs\\env1\\lib\\site-packages\\numpy\\lib\\function_base.py:2551: RuntimeWarning: Degrees of freedom <= 0 for slice\n",
      "  c = cov(x, y, rowvar)\n",
      "c:\\users\\mahdi\\anaconda3\\envs\\env1\\lib\\site-packages\\numpy\\lib\\function_base.py:2480: RuntimeWarning: divide by zero encountered in true_divide\n",
      "  c *= np.true_divide(1, fact)\n",
      "c:\\users\\mahdi\\anaconda3\\envs\\env1\\lib\\site-packages\\numpy\\lib\\function_base.py:2480: RuntimeWarning: invalid value encountered in multiply\n",
      "  c *= np.true_divide(1, fact)\n"
     ]
    },
    {
     "name": "stdout",
     "output_type": "stream",
     "text": [
      "no uncertain cores 80\n",
      "exception occured!!!!!!!!!!!!!!!!!!!!!!!!!!!!!!!!!!!!!!\n"
     ]
    },
    {
     "name": "stderr",
     "output_type": "stream",
     "text": [
      "c:\\users\\mahdi\\anaconda3\\envs\\env1\\lib\\site-packages\\numpy\\core\\fromnumeric.py:3373: RuntimeWarning: Mean of empty slice.\n",
      "  out=out, **kwargs)\n",
      "c:\\users\\mahdi\\anaconda3\\envs\\env1\\lib\\site-packages\\numpy\\core\\_methods.py:170: RuntimeWarning: invalid value encountered in double_scalars\n",
      "  ret = ret.dtype.type(ret / rcount)\n",
      "c:\\users\\mahdi\\anaconda3\\envs\\env1\\lib\\site-packages\\numpy\\lib\\function_base.py:380: RuntimeWarning: Mean of empty slice.\n",
      "  avg = a.mean(axis)\n",
      "c:\\users\\mahdi\\anaconda3\\envs\\env1\\lib\\site-packages\\numpy\\core\\_methods.py:163: RuntimeWarning: invalid value encountered in true_divide\n",
      "  ret, rcount, out=ret, casting='unsafe', subok=False)\n",
      "c:\\users\\mahdi\\anaconda3\\envs\\env1\\lib\\site-packages\\numpy\\lib\\function_base.py:2551: RuntimeWarning: Degrees of freedom <= 0 for slice\n",
      "  c = cov(x, y, rowvar)\n",
      "c:\\users\\mahdi\\anaconda3\\envs\\env1\\lib\\site-packages\\numpy\\lib\\function_base.py:2480: RuntimeWarning: divide by zero encountered in true_divide\n",
      "  c *= np.true_divide(1, fact)\n",
      "c:\\users\\mahdi\\anaconda3\\envs\\env1\\lib\\site-packages\\numpy\\lib\\function_base.py:2480: RuntimeWarning: invalid value encountered in multiply\n",
      "  c *= np.true_divide(1, fact)\n",
      "c:\\users\\mahdi\\anaconda3\\envs\\env1\\lib\\site-packages\\ipykernel_launcher.py:79: RuntimeWarning: invalid value encountered in double_scalars\n",
      "c:\\users\\mahdi\\anaconda3\\envs\\env1\\lib\\site-packages\\numpy\\core\\fromnumeric.py:3373: RuntimeWarning: Mean of empty slice.\n",
      "  out=out, **kwargs)\n",
      "c:\\users\\mahdi\\anaconda3\\envs\\env1\\lib\\site-packages\\numpy\\core\\_methods.py:170: RuntimeWarning: invalid value encountered in double_scalars\n",
      "  ret = ret.dtype.type(ret / rcount)\n",
      "c:\\users\\mahdi\\anaconda3\\envs\\env1\\lib\\site-packages\\numpy\\lib\\function_base.py:380: RuntimeWarning: Mean of empty slice.\n",
      "  avg = a.mean(axis)\n",
      "c:\\users\\mahdi\\anaconda3\\envs\\env1\\lib\\site-packages\\numpy\\core\\_methods.py:163: RuntimeWarning: invalid value encountered in true_divide\n",
      "  ret, rcount, out=ret, casting='unsafe', subok=False)\n",
      "c:\\users\\mahdi\\anaconda3\\envs\\env1\\lib\\site-packages\\numpy\\lib\\function_base.py:2551: RuntimeWarning: Degrees of freedom <= 0 for slice\n",
      "  c = cov(x, y, rowvar)\n",
      "c:\\users\\mahdi\\anaconda3\\envs\\env1\\lib\\site-packages\\numpy\\lib\\function_base.py:2480: RuntimeWarning: divide by zero encountered in true_divide\n",
      "  c *= np.true_divide(1, fact)\n",
      "c:\\users\\mahdi\\anaconda3\\envs\\env1\\lib\\site-packages\\numpy\\lib\\function_base.py:2480: RuntimeWarning: invalid value encountered in multiply\n",
      "  c *= np.true_divide(1, fact)\n"
     ]
    },
    {
     "name": "stdout",
     "output_type": "stream",
     "text": [
      "no uncertain cores 80\n",
      "exception occured!!!!!!!!!!!!!!!!!!!!!!!!!!!!!!!!!!!!!!\n"
     ]
    },
    {
     "name": "stderr",
     "output_type": "stream",
     "text": [
      "c:\\users\\mahdi\\anaconda3\\envs\\env1\\lib\\site-packages\\ipykernel_launcher.py:79: RuntimeWarning: invalid value encountered in double_scalars\n",
      "c:\\users\\mahdi\\anaconda3\\envs\\env1\\lib\\site-packages\\numpy\\core\\fromnumeric.py:3373: RuntimeWarning: Mean of empty slice.\n",
      "  out=out, **kwargs)\n",
      "c:\\users\\mahdi\\anaconda3\\envs\\env1\\lib\\site-packages\\numpy\\core\\_methods.py:170: RuntimeWarning: invalid value encountered in double_scalars\n",
      "  ret = ret.dtype.type(ret / rcount)\n",
      "c:\\users\\mahdi\\anaconda3\\envs\\env1\\lib\\site-packages\\numpy\\lib\\function_base.py:380: RuntimeWarning: Mean of empty slice.\n",
      "  avg = a.mean(axis)\n",
      "c:\\users\\mahdi\\anaconda3\\envs\\env1\\lib\\site-packages\\numpy\\core\\_methods.py:163: RuntimeWarning: invalid value encountered in true_divide\n",
      "  ret, rcount, out=ret, casting='unsafe', subok=False)\n",
      "c:\\users\\mahdi\\anaconda3\\envs\\env1\\lib\\site-packages\\numpy\\lib\\function_base.py:2551: RuntimeWarning: Degrees of freedom <= 0 for slice\n",
      "  c = cov(x, y, rowvar)\n",
      "c:\\users\\mahdi\\anaconda3\\envs\\env1\\lib\\site-packages\\numpy\\lib\\function_base.py:2480: RuntimeWarning: divide by zero encountered in true_divide\n",
      "  c *= np.true_divide(1, fact)\n",
      "c:\\users\\mahdi\\anaconda3\\envs\\env1\\lib\\site-packages\\numpy\\lib\\function_base.py:2480: RuntimeWarning: invalid value encountered in multiply\n",
      "  c *= np.true_divide(1, fact)\n"
     ]
    },
    {
     "name": "stdout",
     "output_type": "stream",
     "text": [
      "no uncertain cores 80\n",
      "exception occured!!!!!!!!!!!!!!!!!!!!!!!!!!!!!!!!!!!!!!\n"
     ]
    },
    {
     "name": "stderr",
     "output_type": "stream",
     "text": [
      "c:\\users\\mahdi\\anaconda3\\envs\\env1\\lib\\site-packages\\ipykernel_launcher.py:79: RuntimeWarning: invalid value encountered in double_scalars\n",
      "c:\\users\\mahdi\\anaconda3\\envs\\env1\\lib\\site-packages\\numpy\\core\\fromnumeric.py:3373: RuntimeWarning: Mean of empty slice.\n",
      "  out=out, **kwargs)\n",
      "c:\\users\\mahdi\\anaconda3\\envs\\env1\\lib\\site-packages\\numpy\\core\\_methods.py:170: RuntimeWarning: invalid value encountered in double_scalars\n",
      "  ret = ret.dtype.type(ret / rcount)\n",
      "c:\\users\\mahdi\\anaconda3\\envs\\env1\\lib\\site-packages\\numpy\\lib\\function_base.py:380: RuntimeWarning: Mean of empty slice.\n",
      "  avg = a.mean(axis)\n",
      "c:\\users\\mahdi\\anaconda3\\envs\\env1\\lib\\site-packages\\numpy\\core\\_methods.py:163: RuntimeWarning: invalid value encountered in true_divide\n",
      "  ret, rcount, out=ret, casting='unsafe', subok=False)\n",
      "c:\\users\\mahdi\\anaconda3\\envs\\env1\\lib\\site-packages\\numpy\\lib\\function_base.py:2551: RuntimeWarning: Degrees of freedom <= 0 for slice\n",
      "  c = cov(x, y, rowvar)\n",
      "c:\\users\\mahdi\\anaconda3\\envs\\env1\\lib\\site-packages\\numpy\\lib\\function_base.py:2480: RuntimeWarning: divide by zero encountered in true_divide\n",
      "  c *= np.true_divide(1, fact)\n",
      "c:\\users\\mahdi\\anaconda3\\envs\\env1\\lib\\site-packages\\numpy\\lib\\function_base.py:2480: RuntimeWarning: invalid value encountered in multiply\n",
      "  c *= np.true_divide(1, fact)\n"
     ]
    },
    {
     "name": "stdout",
     "output_type": "stream",
     "text": [
      "no uncertain cores 80\n",
      "exception occured!!!!!!!!!!!!!!!!!!!!!!!!!!!!!!!!!!!!!!\n",
      "[0.7817643186306781, 0.8080974325213957, 0.8083720930232559, 0.9838709677419355, 0.9705882352941176, 1.0, 1.0, 1.0, nan, nan, nan, nan]\n",
      "srs and seed: 26 0\n",
      "no uncertain cores 1\n",
      "no uncertain cores 1\n",
      "no uncertain cores 3\n",
      "no uncertain cores 4\n",
      "no uncertain cores 8\n",
      "no uncertain cores 15\n",
      "no uncertain cores 23\n",
      "no uncertain cores 27\n",
      "[0.8113890717577353, 0.8113890717577353, 0.8275181040158, 0.8275181040158, 0.8248299319727892, 0.8248299319727892, 0.8367346938775511, 0.86281179138322, 0.8444816053511706, 0.894927536231884, 0.9209459459459459, 0.903250773993808]\n",
      "srs and seed: 26 15\n",
      "no uncertain cores 1\n",
      "no uncertain cores 1\n",
      "no uncertain cores 2\n",
      "no uncertain cores 4\n",
      "no uncertain cores 5\n",
      "no uncertain cores 5\n",
      "no uncertain cores 14\n",
      "no uncertain cores 19\n",
      "no uncertain cores 26\n",
      "[0.7468729427254772, 0.7468729427254772, 0.7732060566161949, 0.771505376344086, 0.7876344086021505, 0.7858613589567605, 0.7739130434782608, 0.7666666666666666, 0.7666666666666666, 0.7619047619047619, 0.7995337995337995, 0.8112781954887218]\n",
      "srs and seed: 26 10\n",
      "no uncertain cores 2\n",
      "no uncertain cores 2\n",
      "no uncertain cores 4\n",
      "no uncertain cores 5\n",
      "no uncertain cores 5\n",
      "no uncertain cores 12\n",
      "no uncertain cores 18\n",
      "no uncertain cores 28\n",
      "no uncertain cores 33\n",
      "[0.7699144173798551, 0.7699144173798551, 0.7962475312705728, 0.7796842827728209, 0.7690459849004805, 0.7724637681159421, 0.7822338830584707, 0.7822338830584707, 0.759469696969697, 0.7829545454545455, 0.7593984962406015, 0.8042929292929293]\n",
      "srs and seed: 30 0\n",
      "no uncertain cores 1\n",
      "no uncertain cores 1\n",
      "no uncertain cores 3\n",
      "no uncertain cores 4\n",
      "no uncertain cores 7\n",
      "no uncertain cores 12\n",
      "no uncertain cores 21\n",
      "no uncertain cores 27\n",
      "[0.7205398288347598, 0.7205398288347598, 0.7468729427254772, 0.7366688610928243, 0.7184139784946236, 0.7345430107526881, 0.7542553191489361, 0.7463768115942029, 0.7793650793650794, 0.8058608058608059, 0.7913533834586466, 0.8506191950464397]\n",
      "srs and seed: 30 15\n",
      "no uncertain cores 1\n",
      "no uncertain cores 1\n",
      "no uncertain cores 1\n",
      "no uncertain cores 1\n",
      "no uncertain cores 3\n",
      "no uncertain cores 4\n",
      "no uncertain cores 10\n",
      "no uncertain cores 13\n",
      "no uncertain cores 16\n",
      "[0.7409479921000659, 0.7409479921000659, 0.7409479921000659, 0.7350340136054422, 0.7350340136054422, 0.7350340136054422, 0.7350340136054422, 0.7421985815602836, 0.7405797101449275, 0.7450473729543496, 0.7311046511627908, 0.7575757575757576]\n",
      "srs and seed: 30 10\n",
      "no uncertain cores 1\n",
      "no uncertain cores 1\n",
      "no uncertain cores 1\n",
      "no uncertain cores 1\n",
      "no uncertain cores 2\n",
      "no uncertain cores 10\n",
      "no uncertain cores 14\n",
      "no uncertain cores 26\n",
      "no uncertain cores 36\n",
      "[0.7323897300855826, 0.7323897300855826, 0.7162606978275181, 0.740255376344086, 0.7610887096774194, 0.7610887096774194, 0.771505376344086, 0.769732326698696, 0.8050699300699301, 0.8482142857142857, 0.9134199134199135, 0.9226579520697167]\n",
      "srs and seed: 57 0\n",
      "no uncertain cores 2\n",
      "no uncertain cores 7\n",
      "no uncertain cores 14\n",
      "no uncertain cores 18\n",
      "[0.7527978933508888, 0.7527978933508888, 0.7468729427254772, 0.7468729427254772, 0.7570770243581304, 0.7409479921000659, 0.7409479921000659, 0.7409479921000659, 0.7561576354679802, 0.7880952380952382, 0.8013144590495449, 0.8205574912891986]\n",
      "srs and seed: 57 15\n",
      "no uncertain cores 1\n",
      "no uncertain cores 1\n",
      "no uncertain cores 1\n",
      "no uncertain cores 4\n",
      "no uncertain cores 10\n",
      "no uncertain cores 17\n",
      "no uncertain cores 22\n",
      "[0.7656352863726136, 0.7656352863726136, 0.771560236998025, 0.7333772218564845, 0.7333772218564845, 0.7258503401360544, 0.7360544217687075, 0.7360544217687075, 0.7366071428571428, 0.7266666666666667, 0.7023809523809523, 0.6847222222222222]\n",
      "srs and seed: 57 10\n",
      "no uncertain cores 1\n",
      "no uncertain cores 1\n",
      "no uncertain cores 1\n",
      "no uncertain cores 1\n",
      "no uncertain cores 2\n",
      "no uncertain cores 6\n",
      "no uncertain cores 17\n",
      "no uncertain cores 18\n",
      "[0.7495062541145491, 0.7495062541145491, 0.7597103357472021, 0.7597103357472021, 0.7693877551020408, 0.7693877551020408, 0.7860544217687075, 0.7860544217687075, 0.8142153413089375, 0.8093877551020409, 0.8, 0.8307189542483661]\n",
      "srs and seed: 26 0\n",
      "no uncertain cores 2\n",
      "no uncertain cores 2\n",
      "no uncertain cores 3\n",
      "no uncertain cores 7\n",
      "no uncertain cores 14\n",
      "no uncertain cores 21\n",
      "no uncertain cores 28\n",
      "no uncertain cores 35\n",
      "[0.7495062541145491, 0.7656352863726136, 0.7656352863726136, 0.771560236998025, 0.78125, 0.78125, 0.7927442528735633, 0.7789855072463767, 0.7946428571428572, 0.8108974358974359, 0.8958333333333333, 0.8963133640552995]\n",
      "srs and seed: 26 15\n",
      "no uncertain cores 1\n",
      "no uncertain cores 1\n",
      "no uncertain cores 3\n",
      "no uncertain cores 6\n",
      "no uncertain cores 12\n",
      "no uncertain cores 15\n",
      "no uncertain cores 22\n",
      "no uncertain cores 31\n",
      "no uncertain cores 34\n",
      "[0.7893350888742594, 0.7893350888742594, 0.7732060566161949, 0.7553763440860215, 0.7449596774193548, 0.7755319148936171, 0.7731800766283525, 0.7509157509157509, 0.8625, 0.8370098039215685, 0.887719298245614, 0.9375]\n",
      "srs and seed: 26 10\n",
      "no uncertain cores 1\n",
      "no uncertain cores 1\n",
      "no uncertain cores 3\n",
      "no uncertain cores 5\n",
      "no uncertain cores 12\n",
      "no uncertain cores 15\n",
      "no uncertain cores 24\n",
      "no uncertain cores 33\n",
      "no uncertain cores 40\n",
      "no uncertain cores 46\n",
      "[0.8403554970375247, 0.8301514154048717, 0.8709677419354839, 0.8501344086021505, 0.8560283687943262, 0.8555555555555555, 0.8644986449864498, 0.8470528455284553, 0.8940256045519204, 0.933982683982684, 0.8500000000000001, 0.8915343915343915]\n",
      "srs and seed: 30 0\n",
      "no uncertain cores 1\n",
      "no uncertain cores 1\n",
      "no uncertain cores 2\n",
      "no uncertain cores 3\n",
      "no uncertain cores 3\n",
      "no uncertain cores 7\n",
      "no uncertain cores 12\n",
      "no uncertain cores 24\n",
      "no uncertain cores 30\n",
      "[0.7323897300855826, 0.7425938117182357, 0.7425938117182357, 0.7377551020408163, 0.7377551020408163, 0.7498240675580576, 0.7579022988505747, 0.7579022988505747, 0.775, 0.8257575757575758, 0.8416666666666667, 0.8952205882352942]\n",
      "srs and seed: 30 10\n",
      "no uncertain cores 1\n",
      "no uncertain cores 2\n",
      "no uncertain cores 5\n",
      "no uncertain cores 6\n",
      "no uncertain cores 9\n",
      "no uncertain cores 13\n",
      "no uncertain cores 24\n",
      "no uncertain cores 31\n",
      "no uncertain cores 41\n",
      "[0.7774851876234364, 0.7774851876234364, 0.7613561553653719, 0.7721088435374149, 0.78125, 0.7575987841945289, 0.7403467297084318, 0.7639130434782608, 0.7804761904761905, 0.8362573099415205, 0.8558823529411765, 0.9327586206896552]\n",
      "srs and seed: 57 0\n",
      "no uncertain cores 4\n",
      "no uncertain cores 6\n",
      "no uncertain cores 8\n",
      "no uncertain cores 10\n",
      "no uncertain cores 20\n",
      "no uncertain cores 31\n",
      "no uncertain cores 33\n",
      "[0.7764976958525346, 0.7764976958525346, 0.7662936142198815, 0.7764976958525346, 0.7764976958525346, 0.8033749082905355, 0.8167848699763594, 0.8311036789297659, 0.8278985507246377, 0.8531746031746031, 0.9166666666666667, 0.9142857142857144]\n",
      "srs and seed: 57 10\n",
      "no uncertain cores 1\n",
      "no uncertain cores 2\n",
      "no uncertain cores 2\n",
      "no uncertain cores 5\n",
      "no uncertain cores 6\n",
      "no uncertain cores 9\n",
      "no uncertain cores 16\n",
      "no uncertain cores 27\n",
      "no uncertain cores 32\n",
      "[0.7409479921000659, 0.7511520737327189, 0.7817643186306781, 0.770497311827957, 0.7916666666666666, 0.7916666666666666, 0.7997685185185186, 0.7986603624901497, 0.8017094017094017, 0.7795454545454545, 0.885576923076923, 0.9605263157894737]\n"
     ]
    }
   ],
   "source": [
    "unc_thrList = [1., 0.5, 0.3, 0.2, 0.15, 0.125, 0.1, 0.075, 0.05,0.025, 0.0125, 0.0075]\n",
    "srs_list = [26, 30, 57]\n",
    "seed_list = [0,15,10]\n",
    "\n",
    "exp_name = 'edl'\n",
    "exp_suffix = ['_mskedPatch/1e-4_fr.4ngrad6_crrt-ds-splt--_res10_srs','_vs.25_edl-thr.2crr_sd','_ep200']\n",
    "all_accbEdl, all_accb_uncEdl, all_accsb_uncEdl = test_uncertainty(srs_list, seed_list, exp_name, exp_suffix, unc_thrList)\n",
    "\n",
    "exp_name = 'vanilla'\n",
    "exp_suffix = ['_mskedPatch/1e-4_fr.4ngrad6_crrt-ds-splt--_res10_srs','_vs.25_ce_sd','_ep200']\n",
    "all_accbVanl, all_accb_uncVanl, all_accsb_uncVanl = test_uncertainty(srs_list, seed_list, exp_name, exp_suffix, unc_thrList)\n",
    "\n",
    "exp_name = 'dropout'\n",
    "exp_suffix = ['_mskedPatch/crrt-ds-splt--_res10_srs','_vs.25_ce-thr.1-drp.1-30_sd','_invl1val15tst_ep200']\n",
    "all_accbDrp, all_accb_uncDrp, all_accsb_uncDrp = test_uncertainty(srs_list, seed_list, exp_name, exp_suffix, unc_thrList)"
   ],
   "metadata": {
    "collapsed": false,
    "pycharm": {
     "name": "#%%\n"
    }
   }
  },
  {
   "cell_type": "code",
   "execution_count": 227,
   "outputs": [
    {
     "name": "stdout",
     "output_type": "stream",
     "text": [
      "srs and seed: 26 0\n",
      "srs and seed: 26 5\n",
      "srs and seed: 26 10\n",
      "srs and seed: 26 15\n",
      "srs and seed: 26 20\n",
      "no uncertain cores 3\n",
      "no uncertain cores 16\n",
      "no uncertain cores 31\n",
      "no uncertain cores 33\n",
      "no uncertain cores 35\n",
      "no uncertain cores 41\n",
      "no uncertain cores 45\n",
      "no uncertain cores 48\n",
      "no uncertain cores 55\n",
      "no uncertain cores 58\n",
      "[0.8242264647794602, 0.8242264647794602, 0.8308189655172413, 0.827922077922078, 0.9186274509803922, 0.9134199134199135, 0.9074519230769231, 0.9090909090909092, 0.9444444444444444, 0.9444444444444444, 0.9166666666666667, 1.0]\n",
      "srs and seed: 30 0\n",
      "srs and seed: 30 5\n",
      "srs and seed: 30 10\n",
      "srs and seed: 30 15\n",
      "srs and seed: 30 20\n",
      "no uncertain cores 2\n",
      "no uncertain cores 11\n",
      "no uncertain cores 16\n",
      "no uncertain cores 21\n",
      "no uncertain cores 26\n",
      "no uncertain cores 29\n",
      "no uncertain cores 32\n",
      "no uncertain cores 43\n",
      "no uncertain cores 48\n",
      "no uncertain cores 53\n",
      "[0.7468729427254772, 0.7468729427254772, 0.7536032944406315, 0.7804545454545455, 0.7990033222591362, 0.822829131652661, 0.8355263157894737, 0.8583333333333334, 0.8487394957983193, 0.9087301587301587, 0.9166666666666667, 0.8772727272727273]\n",
      "srs and seed: 57 0\n",
      "srs and seed: 57 10\n",
      "srs and seed: 57 15\n",
      "srs and seed: 57 20\n",
      "no uncertain cores 17\n",
      "no uncertain cores 25\n",
      "no uncertain cores 26\n",
      "no uncertain cores 33\n",
      "no uncertain cores 37\n",
      "no uncertain cores 43\n",
      "no uncertain cores 47\n",
      "no uncertain cores 54\n",
      "no uncertain cores 55\n",
      "[0.7774851876234364, 0.7774851876234364, 0.7817643186306781, 0.7142857142857142, 0.7749999999999999, 0.7743589743589743, 0.8358585858585859, 0.8594771241830066, 0.9119047619047619, 0.9093406593406593, 0.9782608695652174, 1.0]\n",
      "srs and seed: 13 0\n",
      "srs and seed: 13 5\n",
      "srs and seed: 13 10\n",
      "srs and seed: 13 15\n",
      "srs and seed: 13 20\n",
      "no uncertain cores 7\n",
      "no uncertain cores 33\n",
      "no uncertain cores 44\n",
      "no uncertain cores 49\n",
      "no uncertain cores 52\n",
      "no uncertain cores 57\n",
      "no uncertain cores 63\n",
      "no uncertain cores 69\n",
      "exception occured!!!!!!!!!!!!!!!!!!!!!!!!!!!!!!!!!!!!!!\n",
      "no uncertain cores 71\n",
      "exception occured!!!!!!!!!!!!!!!!!!!!!!!!!!!!!!!!!!!!!!\n",
      "no uncertain cores 72\n",
      "exception occured!!!!!!!!!!!!!!!!!!!!!!!!!!!!!!!!!!!!!!\n",
      "[0.8054641211323239, 0.8054641211323239, 0.8592471358428806, 0.905241935483871, 0.9345454545454546, 0.8661616161616161, 0.875, 0.9, 0.8333333333333333, 1.0, 1.0, 1.0]\n",
      "srs and seed: 77 0\n"
     ]
    },
    {
     "name": "stderr",
     "output_type": "stream",
     "text": [
      "c:\\users\\mahdi\\anaconda3\\envs\\env1\\lib\\site-packages\\numpy\\lib\\function_base.py:2559: RuntimeWarning: invalid value encountered in true_divide\n",
      "  c /= stddev[:, None]\n",
      "c:\\users\\mahdi\\anaconda3\\envs\\env1\\lib\\site-packages\\numpy\\lib\\function_base.py:2559: RuntimeWarning: invalid value encountered in true_divide\n",
      "  c /= stddev[:, None]\n",
      "c:\\users\\mahdi\\anaconda3\\envs\\env1\\lib\\site-packages\\numpy\\lib\\function_base.py:2559: RuntimeWarning: invalid value encountered in true_divide\n",
      "  c /= stddev[:, None]\n"
     ]
    },
    {
     "name": "stdout",
     "output_type": "stream",
     "text": [
      "srs and seed: 77 5\n",
      "srs and seed: 77 10\n",
      "srs and seed: 77 15\n",
      "srs and seed: 77 20\n",
      "no uncertain cores 2\n",
      "no uncertain cores 13\n",
      "no uncertain cores 24\n",
      "no uncertain cores 31\n",
      "no uncertain cores 32\n",
      "no uncertain cores 36\n",
      "no uncertain cores 44\n",
      "no uncertain cores 49\n",
      "no uncertain cores 50\n",
      "no uncertain cores 53\n",
      "[0.7978933508887426, 0.7978933508887426, 0.7958333333333334, 0.8571428571428572, 0.757602862254025, 0.7916666666666667, 0.7727272727272727, 0.8, 0.7946428571428572, 0.8333333333333333, 0.9, 0.875]\n"
     ]
    }
   ],
   "source": [
    "unc_thrList = [1., 0.5, 0.3, 0.2, 0.15, 0.125, 0.1, 0.075, 0.05,0.025, 0.0125, 0.0075]\n",
    "srs_list = [26,30,57,13,77]\n",
    "seed_list = [0,5,10,15,20]\n",
    "\n",
    "exp_name = 'ensm'\n",
    "exp_suffix = ['_mskedPatch/1e-4_fr.4ngrad6_crrt-ds-splt--_res10_srs','_vs.25_ce_sd','_ep200']\n",
    "all_accbEnsm, all_accb_uncEnsm, all_accsb_uncEnsm = test_uncertainty_ensemble(srs_list, seed_list, exp_name, exp_suffix, unc_thrList)\n"
   ],
   "metadata": {
    "collapsed": false,
    "pycharm": {
     "name": "#%%\n"
    }
   }
  },
  {
   "cell_type": "code",
   "execution_count": 244,
   "outputs": [
    {
     "name": "stderr",
     "output_type": "stream",
     "text": [
      "c:\\users\\mahdi\\anaconda3\\envs\\env1\\lib\\site-packages\\ipykernel_launcher.py:11: RuntimeWarning: Mean of empty slice\n",
      "  # This is added back by InteractiveShellApp.init_path()\n",
      "c:\\users\\mahdi\\anaconda3\\envs\\env1\\lib\\site-packages\\ipykernel_launcher.py:12: RuntimeWarning: Degrees of freedom <= 0 for slice.\n",
      "  if sys.path[0] == '':\n"
     ]
    },
    {
     "data": {
      "text/plain": "<Figure size 648x432 with 1 Axes>",
      "image/png": "[encoded data removed]"
     },
     "metadata": {
      "needs_background": "light"
     },
     "output_type": "display_data"
    }
   ],
   "source": [
    "all_accb_unc = []\n",
    "all_accsb_unc = []\n",
    "color=['orangered', 'y','lawngreen','b']\n",
    "\n",
    "fig1, ax1 = plt.subplots()\n",
    "fig1.set_size_inches(9, 6)\n",
    "for i, exp in enumerate(['Edl', 'Ensm','Drp', 'Vanl']):\n",
    "    exec('all_accb_unc' + '= all_accb_unc'+ f'{exp}')\n",
    "    exec('all_accsb_unc' + '= all_accsb_unc'+ f'{exp}')\n",
    "    acc_b_stack = np.stack(all_accb_unc, axis=0)\n",
    "    acc_b_mean = np.nanmean(acc_b_stack, axis=0)*100.\n",
    "    acc_b_std = np.sqrt(np.nanvar(acc_b_stack, axis=0))*10.\n",
    "    # fig1.set_size_inches(18.5, 10.5)\n",
    "    x = 1-np.array(unc_thrList)\n",
    "    ax1.plot(x, acc_b_mean, c=color[i], marker='o')\n",
    "    plt.fill_between(x, acc_b_mean-acc_b_std, acc_b_mean+acc_b_std,\n",
    "                     alpha=0.5, edgecolor=color[i], facecolor=color[i])\n",
    "\n",
    "plt.xlabel('Confidence threshold')\n",
    "plt.ylabel('Balanced-accuracy on cores p(y|x)>threshold')\n",
    "plt.xlim(0, 1.)\n",
    "plt.ylim(75, 100)\n",
    "plt.legend(['Evidential', 'Ensemble', 'MC Dropout','Vanilla'])\n",
    "plt.show()"
   ],
   "metadata": {
    "collapsed": false,
    "pycharm": {
     "name": "#%%\n"
    }
   }
  },
  {
   "cell_type": "code",
   "execution_count": 243,
   "outputs": [
    {
     "name": "stderr",
     "output_type": "stream",
     "text": [
      "c:\\users\\mahdi\\anaconda3\\envs\\env1\\lib\\site-packages\\ipykernel_launcher.py:6: RuntimeWarning: Mean of empty slice\n",
      "  \n",
      "c:\\users\\mahdi\\anaconda3\\envs\\env1\\lib\\site-packages\\ipykernel_launcher.py:7: RuntimeWarning: Degrees of freedom <= 0 for slice.\n",
      "  import sys\n"
     ]
    },
    {
     "data": {
      "text/plain": "<Figure size 648x432 with 1 Axes>",
      "image/png": "[encoded data removed]"
     },
     "metadata": {
      "needs_background": "light"
     },
     "output_type": "display_data"
    }
   ],
   "source": [
    "fig1, ax1 = plt.subplots()\n",
    "fig1.set_size_inches(9, 6)\n",
    "for i, exp in enumerate(['Edl', 'Ensm','Drp', 'Vanl']):\n",
    "    exec('all_accsb_unc' + '= all_accsb_unc'+ f'{exp}')\n",
    "    acc_sb_stack = np.stack(all_accsb_unc, axis=0)\n",
    "    acc_sb_mean = np.nanmean(acc_sb_stack, axis=0)*100.\n",
    "    acc_sb_std = np.sqrt(np.nanvar(acc_sb_stack, axis=0))*10.\n",
    "    # fig1.set_size_inches(18.5, 10.5)\n",
    "    x = 1-np.array(unc_thrList)\n",
    "    ax1.plot(x, acc_sb_mean, c=color[i], marker='o')\n",
    "    plt.fill_between(x, acc_sb_mean-acc_sb_std, acc_sb_mean+acc_sb_std,\n",
    "                     alpha=0.5, edgecolor=color[i], facecolor=color[i])\n",
    "\n",
    "plt.xlabel('Confidence threshold')\n",
    "plt.ylabel('Balanceed-accuracy on patches p(y|x)>threshold')\n",
    "plt.xlim(0, 1.)\n",
    "plt.ylim(68, 86)\n",
    "plt.legend(['Evidential', 'Ensemble', 'MC Dropout','Vanilla'])\n",
    "plt.show()\n",
    "\n"
   ],
   "metadata": {
    "collapsed": false,
    "pycharm": {
     "name": "#%%\n"
    }
   }
  },
  {
   "cell_type": "code",
   "execution_count": 172,
   "outputs": [
    {
     "name": "stdout",
     "output_type": "stream",
     "text": [
      "<class 'torch.Tensor'>\n"
     ]
    }
   ],
   "source": [],
   "metadata": {
    "collapsed": false,
    "pycharm": {
     "name": "#%%\n"
    }
   }
  }
 ],
 "metadata": {
  "kernelspec": {
   "display_name": "Python 3",
   "language": "python",
   "name": "python3"
  },
  "language_info": {
   "codemirror_mode": {
    "name": "ipython",
    "version": 2
   },
   "file_extension": ".py",
   "mimetype": "text/x-python",
   "name": "python",
   "nbconvert_exporter": "python",
   "pygments_lexer": "ipython2",
   "version": "2.7.6"
  }
 },
 "nbformat": 4,
 "nbformat_minor": 0
}